{
 "cells": [
  {
   "cell_type": "markdown",
   "id": "3bdf74ce",
   "metadata": {
    "papermill": {
     "duration": 0.008493,
     "end_time": "2024-06-12T16:18:19.974484",
     "exception": false,
     "start_time": "2024-06-12T16:18:19.965991",
     "status": "completed"
    },
    "tags": []
   },
   "source": [
    "# Mini-Project for Fundamentals of Machine Learning Course\n",
    "\n",
    "In this study, facial expression recognition was performed on the face images from the Facial Expression Recognition Challenge (FER2013) dataset.\n",
    "\n",
    "One motivation for representation learning is that learning algorithms can design features more effectively and efficiently than humans can. However, this challenge does not explicitly require entries to use representation learning. The dataset, assembled from the internet, is designed for facial expression classification.\n",
    "\n",
    "The data consists of grayscale images of faces, each measuring 48x48 pixels. The faces have been automatically aligned to be roughly centered and occupy a similar area within each image. The task is to categorize each face based on the emotion expressed, assigning it to one of seven categories (0=Angry, 1=Disgust, 2=Fear, 3=Happy, 4=Sad, 5=Surprise, 6=Neutral). The dataset contains a total of 35,887 examples.\n"
   ]
  },
  {
   "cell_type": "markdown",
   "id": "5b98301f",
   "metadata": {
    "papermill": {
     "duration": 0.007549,
     "end_time": "2024-06-12T16:18:19.990575",
     "exception": false,
     "start_time": "2024-06-12T16:18:19.983026",
     "status": "completed"
    },
    "tags": []
   },
   "source": [
    "## 1. Prerequisite\n",
    "\n",
    "This section provides some basic steps for accessing and visualizing the dataset.\n"
   ]
  },
  {
   "cell_type": "code",
   "execution_count": 1,
   "id": "a8e526ed",
   "metadata": {
    "execution": {
     "iopub.execute_input": "2024-06-12T16:18:20.008643Z",
     "iopub.status.busy": "2024-06-12T16:18:20.008200Z",
     "iopub.status.idle": "2024-06-12T16:18:37.528740Z",
     "shell.execute_reply": "2024-06-12T16:18:37.527452Z"
    },
    "papermill": {
     "duration": 17.53265,
     "end_time": "2024-06-12T16:18:37.531601",
     "exception": false,
     "start_time": "2024-06-12T16:18:19.998951",
     "status": "completed"
    },
    "tags": []
   },
   "outputs": [
    {
     "name": "stdout",
     "output_type": "stream",
     "text": [
      "Collecting lazypredict\r\n",
      "  Downloading lazypredict-0.2.12-py2.py3-none-any.whl.metadata (12 kB)\r\n",
      "Requirement already satisfied: click in /opt/conda/lib/python3.10/site-packages (from lazypredict) (8.1.7)\r\n",
      "Requirement already satisfied: scikit-learn in /opt/conda/lib/python3.10/site-packages (from lazypredict) (1.2.2)\r\n",
      "Requirement already satisfied: pandas in /opt/conda/lib/python3.10/site-packages (from lazypredict) (2.2.2)\r\n",
      "Requirement already satisfied: tqdm in /opt/conda/lib/python3.10/site-packages (from lazypredict) (4.66.4)\r\n",
      "Requirement already satisfied: joblib in /opt/conda/lib/python3.10/site-packages (from lazypredict) (1.4.2)\r\n",
      "Requirement already satisfied: lightgbm in /opt/conda/lib/python3.10/site-packages (from lazypredict) (4.2.0)\r\n",
      "Requirement already satisfied: xgboost in /opt/conda/lib/python3.10/site-packages (from lazypredict) (2.0.3)\r\n",
      "Requirement already satisfied: numpy in /opt/conda/lib/python3.10/site-packages (from lightgbm->lazypredict) (1.26.4)\r\n",
      "Requirement already satisfied: scipy in /opt/conda/lib/python3.10/site-packages (from lightgbm->lazypredict) (1.11.4)\r\n",
      "Requirement already satisfied: python-dateutil>=2.8.2 in /opt/conda/lib/python3.10/site-packages (from pandas->lazypredict) (2.9.0.post0)\r\n",
      "Requirement already satisfied: pytz>=2020.1 in /opt/conda/lib/python3.10/site-packages (from pandas->lazypredict) (2023.3.post1)\r\n",
      "Requirement already satisfied: tzdata>=2022.7 in /opt/conda/lib/python3.10/site-packages (from pandas->lazypredict) (2023.4)\r\n",
      "Requirement already satisfied: threadpoolctl>=2.0.0 in /opt/conda/lib/python3.10/site-packages (from scikit-learn->lazypredict) (3.2.0)\r\n",
      "Requirement already satisfied: six>=1.5 in /opt/conda/lib/python3.10/site-packages (from python-dateutil>=2.8.2->pandas->lazypredict) (1.16.0)\r\n",
      "Downloading lazypredict-0.2.12-py2.py3-none-any.whl (12 kB)\r\n",
      "Installing collected packages: lazypredict\r\n",
      "Successfully installed lazypredict-0.2.12\r\n"
     ]
    }
   ],
   "source": [
    "!pip install lazypredict"
   ]
  },
  {
   "cell_type": "code",
   "execution_count": 2,
   "id": "1e28f5c6",
   "metadata": {
    "execution": {
     "iopub.execute_input": "2024-06-12T16:18:37.551483Z",
     "iopub.status.busy": "2024-06-12T16:18:37.551038Z",
     "iopub.status.idle": "2024-06-12T16:18:43.047517Z",
     "shell.execute_reply": "2024-06-12T16:18:43.045966Z"
    },
    "papermill": {
     "duration": 5.509871,
     "end_time": "2024-06-12T16:18:43.050481",
     "exception": false,
     "start_time": "2024-06-12T16:18:37.540610",
     "status": "completed"
    },
    "tags": []
   },
   "outputs": [],
   "source": [
    "import pandas as pd\n",
    "import numpy as np\n",
    "from matplotlib import pyplot as plt\n",
    "from sklearn.decomposition import PCA\n",
    "from sklearn.model_selection import train_test_split, GridSearchCV\n",
    "from tqdm import tqdm, trange\n",
    "from lazypredict.Supervised import LazyClassifier"
   ]
  },
  {
   "cell_type": "code",
   "execution_count": 3,
   "id": "46e3bacb",
   "metadata": {
    "execution": {
     "iopub.execute_input": "2024-06-12T16:18:43.072074Z",
     "iopub.status.busy": "2024-06-12T16:18:43.071327Z",
     "iopub.status.idle": "2024-06-12T16:18:43.080894Z",
     "shell.execute_reply": "2024-06-12T16:18:43.079439Z"
    },
    "papermill": {
     "duration": 0.024312,
     "end_time": "2024-06-12T16:18:43.083973",
     "exception": false,
     "start_time": "2024-06-12T16:18:43.059661",
     "status": "completed"
    },
    "tags": []
   },
   "outputs": [],
   "source": [
    "def parse_data(data: pd.DataFrame):\n",
    "    \"\"\"\n",
    "    Reads input dataframe then return arrays of images and labels\n",
    "    \"\"\"\n",
    "    image_array = np.zeros(shape=(len(data), 48, 48))\n",
    "    image_label = np.array(list(map(int, data[\"emotion\"])))\n",
    "\n",
    "    for i, row in tqdm(enumerate(data.index)):\n",
    "        image = np.fromstring(data.loc[row, \"pixels\"], dtype=int, sep=\" \")\n",
    "        image = np.reshape(image, (48, 48))\n",
    "        image_array[i] = image\n",
    "\n",
    "    return image_array, image_label"
   ]
  },
  {
   "cell_type": "code",
   "execution_count": 4,
   "id": "2c731542",
   "metadata": {
    "execution": {
     "iopub.execute_input": "2024-06-12T16:18:43.105456Z",
     "iopub.status.busy": "2024-06-12T16:18:43.105021Z",
     "iopub.status.idle": "2024-06-12T16:18:43.115479Z",
     "shell.execute_reply": "2024-06-12T16:18:43.114059Z"
    },
    "papermill": {
     "duration": 0.024486,
     "end_time": "2024-06-12T16:18:43.118903",
     "exception": false,
     "start_time": "2024-06-12T16:18:43.094417",
     "status": "completed"
    },
    "tags": []
   },
   "outputs": [],
   "source": [
    "def show_img(images: np.ndarray, labels: np.ndarray):\n",
    "    \"\"\"\n",
    "    Visualize images and labels respectively\n",
    "    \"\"\"\n",
    "    _, axarr = plt.subplots(nrows=2, ncols=5, figsize=(18, 9))\n",
    "    axarr = axarr.flatten()\n",
    "    for idx, label in enumerate(labels[:10]):\n",
    "        axarr[idx].imshow(images[idx], cmap=\"gray\")\n",
    "        axarr[idx].set_xticks([])\n",
    "        axarr[idx].set_yticks([])\n",
    "        axarr[idx].set_title(\"Label:{}\".format(label))"
   ]
  },
  {
   "cell_type": "code",
   "execution_count": 5,
   "id": "d02f0f27",
   "metadata": {
    "execution": {
     "iopub.execute_input": "2024-06-12T16:18:43.140910Z",
     "iopub.status.busy": "2024-06-12T16:18:43.140506Z",
     "iopub.status.idle": "2024-06-12T16:18:49.786872Z",
     "shell.execute_reply": "2024-06-12T16:18:49.785415Z"
    },
    "papermill": {
     "duration": 6.66057,
     "end_time": "2024-06-12T16:18:49.789781",
     "exception": false,
     "start_time": "2024-06-12T16:18:43.129211",
     "status": "completed"
    },
    "tags": []
   },
   "outputs": [
    {
     "data": {
      "text/html": [
       "<div>\n",
       "<style scoped>\n",
       "    .dataframe tbody tr th:only-of-type {\n",
       "        vertical-align: middle;\n",
       "    }\n",
       "\n",
       "    .dataframe tbody tr th {\n",
       "        vertical-align: top;\n",
       "    }\n",
       "\n",
       "    .dataframe thead th {\n",
       "        text-align: right;\n",
       "    }\n",
       "</style>\n",
       "<table border=\"1\" class=\"dataframe\">\n",
       "  <thead>\n",
       "    <tr style=\"text-align: right;\">\n",
       "      <th></th>\n",
       "      <th>emotion</th>\n",
       "      <th>pixels</th>\n",
       "    </tr>\n",
       "  </thead>\n",
       "  <tbody>\n",
       "    <tr>\n",
       "      <th>0</th>\n",
       "      <td>0</td>\n",
       "      <td>70 80 82 72 58 58 60 63 54 58 60 48 89 115 121...</td>\n",
       "    </tr>\n",
       "    <tr>\n",
       "      <th>1</th>\n",
       "      <td>0</td>\n",
       "      <td>151 150 147 155 148 133 111 140 170 174 182 15...</td>\n",
       "    </tr>\n",
       "    <tr>\n",
       "      <th>2</th>\n",
       "      <td>2</td>\n",
       "      <td>231 212 156 164 174 138 161 173 182 200 106 38...</td>\n",
       "    </tr>\n",
       "    <tr>\n",
       "      <th>3</th>\n",
       "      <td>4</td>\n",
       "      <td>24 32 36 30 32 23 19 20 30 41 21 22 32 34 21 1...</td>\n",
       "    </tr>\n",
       "    <tr>\n",
       "      <th>4</th>\n",
       "      <td>6</td>\n",
       "      <td>4 0 0 0 0 0 0 0 0 0 0 0 3 15 23 28 48 50 58 84...</td>\n",
       "    </tr>\n",
       "  </tbody>\n",
       "</table>\n",
       "</div>"
      ],
      "text/plain": [
       "   emotion                                             pixels\n",
       "0        0  70 80 82 72 58 58 60 63 54 58 60 48 89 115 121...\n",
       "1        0  151 150 147 155 148 133 111 140 170 174 182 15...\n",
       "2        2  231 212 156 164 174 138 161 173 182 200 106 38...\n",
       "3        4  24 32 36 30 32 23 19 20 30 41 21 22 32 34 21 1...\n",
       "4        6  4 0 0 0 0 0 0 0 0 0 0 0 3 15 23 28 48 50 58 84..."
      ]
     },
     "execution_count": 5,
     "metadata": {},
     "output_type": "execute_result"
    }
   ],
   "source": [
    "## load dataset here\n",
    "df = pd.read_csv(\"/kaggle/input/dataset-projectml-fer2013/icml_face_data.csv\")\n",
    "df.head()"
   ]
  },
  {
   "cell_type": "markdown",
   "id": "7e82bdf5",
   "metadata": {
    "papermill": {
     "duration": 0.009068,
     "end_time": "2024-06-12T16:18:49.808308",
     "exception": false,
     "start_time": "2024-06-12T16:18:49.799240",
     "status": "completed"
    },
    "tags": []
   },
   "source": [
    "The `emotion` column contains a numeric code ranging from 0 to 6, inclusive, for the emotion expressed by the image. The \"pixels\" column contains a string surrounded in quotes for each image.\n"
   ]
  },
  {
   "cell_type": "code",
   "execution_count": 6,
   "id": "f1f73518",
   "metadata": {
    "execution": {
     "iopub.execute_input": "2024-06-12T16:18:49.828948Z",
     "iopub.status.busy": "2024-06-12T16:18:49.828499Z",
     "iopub.status.idle": "2024-06-12T16:18:54.599513Z",
     "shell.execute_reply": "2024-06-12T16:18:54.598026Z"
    },
    "papermill": {
     "duration": 4.784342,
     "end_time": "2024-06-12T16:18:54.602020",
     "exception": false,
     "start_time": "2024-06-12T16:18:49.817678",
     "status": "completed"
    },
    "tags": []
   },
   "outputs": [
    {
     "name": "stderr",
     "output_type": "stream",
     "text": [
      "35887it [00:04, 7559.60it/s]\n"
     ]
    }
   ],
   "source": [
    "## parsing data here\n",
    "images, labels = parse_data(df)"
   ]
  },
  {
   "cell_type": "code",
   "execution_count": 7,
   "id": "1e0be5b2",
   "metadata": {
    "execution": {
     "iopub.execute_input": "2024-06-12T16:18:54.633474Z",
     "iopub.status.busy": "2024-06-12T16:18:54.632083Z",
     "iopub.status.idle": "2024-06-12T16:18:55.593017Z",
     "shell.execute_reply": "2024-06-12T16:18:55.591787Z"
    },
    "papermill": {
     "duration": 0.979432,
     "end_time": "2024-06-12T16:18:55.595750",
     "exception": false,
     "start_time": "2024-06-12T16:18:54.616318",
     "status": "completed"
    },
    "tags": []
   },
   "outputs": [
    {
     "data": {
      "image/png": "[encoded data removed]",
      "text/plain": [
       "<Figure size 1800x900 with 10 Axes>"
      ]
     },
     "metadata": {},
     "output_type": "display_data"
    }
   ],
   "source": [
    "## showing images here\n",
    "show_img(images, labels)"
   ]
  },
  {
   "cell_type": "markdown",
   "id": "9c64e121",
   "metadata": {
    "papermill": {
     "duration": 0.016122,
     "end_time": "2024-06-12T16:18:55.627630",
     "exception": false,
     "start_time": "2024-06-12T16:18:55.611508",
     "status": "completed"
    },
    "tags": []
   },
   "source": [
    "## 2. Principle Component Analysis\n",
    "\n",
    "Unsupervised learning can be further categorized into two main tasks: data transformation and clustering. In this study, we will focus on data transformation using unsupervised learning techniques. These techniques aim to modify the data to make it easier for computers and humans to analyze and understand.\n",
    "\n",
    "One of the most common applications of unsupervised data transformation is dimensionality reduction. This process reduces the number of features (dimensions) in the data. When the data has a high number of features, it can be computationally expensive and difficult to analyze. Dimensionality reduction techniques help to overcome these challenges.\n",
    "\n",
    "Principal Component Analysis (PCA) is a popular technique for dimensionality reduction. It transforms the data into a new set of features called principal components (PCs). These PCs are ordered by their importance, capturing the most significant variations in the data. By selecting a subset of the most informative PCs, we can achieve a significant reduction in data size while preserving the essential information for analysis.\n"
   ]
  },
  {
   "cell_type": "markdown",
   "id": "5fcbb756",
   "metadata": {
    "papermill": {
     "duration": 0.015706,
     "end_time": "2024-06-12T16:18:55.658989",
     "exception": false,
     "start_time": "2024-06-12T16:18:55.643283",
     "status": "completed"
    },
    "tags": []
   },
   "source": [
    "Question 1: Can you visualize the data projected onto two principal components? (2 points)\n"
   ]
  },
  {
   "cell_type": "code",
   "execution_count": 8,
   "id": "4767e273",
   "metadata": {
    "execution": {
     "iopub.execute_input": "2024-06-12T16:18:55.691671Z",
     "iopub.status.busy": "2024-06-12T16:18:55.691203Z",
     "iopub.status.idle": "2024-06-12T16:18:56.289399Z",
     "shell.execute_reply": "2024-06-12T16:18:56.288051Z"
    },
    "papermill": {
     "duration": 0.617683,
     "end_time": "2024-06-12T16:18:56.292394",
     "exception": false,
     "start_time": "2024-06-12T16:18:55.674711",
     "status": "completed"
    },
    "tags": []
   },
   "outputs": [],
   "source": [
    "raw_images = images.copy()\n",
    "images = images.reshape(labels.shape[0], -1)\n",
    "normalized_images = images / 255.0"
   ]
  },
  {
   "cell_type": "code",
   "execution_count": 9,
   "id": "0415c961",
   "metadata": {
    "execution": {
     "iopub.execute_input": "2024-06-12T16:18:56.325678Z",
     "iopub.status.busy": "2024-06-12T16:18:56.325120Z",
     "iopub.status.idle": "2024-06-12T16:19:02.300292Z",
     "shell.execute_reply": "2024-06-12T16:19:02.298277Z"
    },
    "papermill": {
     "duration": 5.995213,
     "end_time": "2024-06-12T16:19:02.303619",
     "exception": false,
     "start_time": "2024-06-12T16:18:56.308406",
     "status": "completed"
    },
    "tags": []
   },
   "outputs": [
    {
     "data": {
      "text/plain": [
       "(35887, 2)"
      ]
     },
     "execution_count": 9,
     "metadata": {},
     "output_type": "execute_result"
    }
   ],
   "source": [
    "pca_2_components = PCA(n_components=2)\n",
    "pca_images = pca_2_components.fit_transform(normalized_images)\n",
    "pca_images.shape"
   ]
  },
  {
   "cell_type": "code",
   "execution_count": 10,
   "id": "78cfebfc",
   "metadata": {
    "execution": {
     "iopub.execute_input": "2024-06-12T16:19:02.337057Z",
     "iopub.status.busy": "2024-06-12T16:19:02.336581Z",
     "iopub.status.idle": "2024-06-12T16:19:02.344058Z",
     "shell.execute_reply": "2024-06-12T16:19:02.342730Z"
    },
    "papermill": {
     "duration": 0.027597,
     "end_time": "2024-06-12T16:19:02.346908",
     "exception": false,
     "start_time": "2024-06-12T16:19:02.319311",
     "status": "completed"
    },
    "tags": []
   },
   "outputs": [],
   "source": [
    "def reconstructing_image(image: np.ndarray[float], pca: PCA) -> np.ndarray[int]:\n",
    "    if not isinstance(pca, PCA):\n",
    "        raise TypeError(\"pca must be an instance of sklearn.decomposition.PCA\")\n",
    "    reconstructed_images = pca.inverse_transform(image)\n",
    "    reconstructed_images = (reconstructed_images * 255).astype(np.uint8)\n",
    "    reconstructed_images = reconstructed_images.reshape(48, 48)\n",
    "    return reconstructed_images"
   ]
  },
  {
   "cell_type": "code",
   "execution_count": 11,
   "id": "4da371ad",
   "metadata": {
    "execution": {
     "iopub.execute_input": "2024-06-12T16:19:02.381479Z",
     "iopub.status.busy": "2024-06-12T16:19:02.380946Z",
     "iopub.status.idle": "2024-06-12T16:19:02.393699Z",
     "shell.execute_reply": "2024-06-12T16:19:02.392438Z"
    },
    "papermill": {
     "duration": 0.034124,
     "end_time": "2024-06-12T16:19:02.396620",
     "exception": false,
     "start_time": "2024-06-12T16:19:02.362496",
     "status": "completed"
    },
    "tags": []
   },
   "outputs": [],
   "source": [
    "def plot_compare_pca_images(\n",
    "    raw: np.ndarray[int],\n",
    "    transformed: np.ndarray[float],\n",
    "    labels: np.ndarray,\n",
    "    pca: PCA,\n",
    "    n_images: int = 2,\n",
    ") -> None:\n",
    "    \n",
    "    _, axes = plt.subplots(nrows=2, ncols=n_images, figsize=(9, 9 * n_images))\n",
    "    for idx, label in enumerate(labels):\n",
    "        if idx >= n_images:\n",
    "            break\n",
    "        \n",
    "        idx_random = np.random.randint(0, len(labels))\n",
    "        \n",
    "        # Show raw images\n",
    "        axes[idx][0].imshow(raw[idx_random], cmap=\"gray\")\n",
    "        axes[idx][0].set_xticks([])\n",
    "        axes[idx][0].set_yticks([])\n",
    "        axes[idx][0].set_title(f\"Raw|Label:{label}\")\n",
    "\n",
    "        # Show transformed images\n",
    "        axes[idx][1].imshow(\n",
    "            reconstructing_image(transformed[idx_random], pca=pca), cmap=\"gray\"\n",
    "        )\n",
    "        axes[idx][1].set_xticks([])\n",
    "        axes[idx][1].set_yticks([])\n",
    "        axes[idx][1].set_title(f\"Transformed|Label:{label}\")\n",
    "    plt.tight_layout()\n",
    "    plt.show()"
   ]
  },
  {
   "cell_type": "code",
   "execution_count": 12,
   "id": "ef12ed6b",
   "metadata": {
    "execution": {
     "iopub.execute_input": "2024-06-12T16:19:02.431366Z",
     "iopub.status.busy": "2024-06-12T16:19:02.430860Z",
     "iopub.status.idle": "2024-06-12T16:19:03.030737Z",
     "shell.execute_reply": "2024-06-12T16:19:03.029195Z"
    },
    "papermill": {
     "duration": 0.62143,
     "end_time": "2024-06-12T16:19:03.033566",
     "exception": false,
     "start_time": "2024-06-12T16:19:02.412136",
     "status": "completed"
    },
    "tags": []
   },
   "outputs": [
    {
     "data": {
      "image/png": "[encoded data removed]",
      "text/plain": [
       "<Figure size 900x1800 with 4 Axes>"
      ]
     },
     "metadata": {},
     "output_type": "display_data"
    }
   ],
   "source": [
    "plot_compare_pca_images(raw_images, pca_images, labels, pca_2_components)"
   ]
  },
  {
   "cell_type": "markdown",
   "id": "760cb82a",
   "metadata": {
    "papermill": {
     "duration": 0.015856,
     "end_time": "2024-06-12T16:19:03.066016",
     "exception": false,
     "start_time": "2024-06-12T16:19:03.050160",
     "status": "completed"
    },
    "tags": []
   },
   "source": [
    "Question 2: How to determine the optimal number of principal components using `pca.explained_variance_`? Explain your selection process. (2 points)\n"
   ]
  },
  {
   "cell_type": "code",
   "execution_count": 13,
   "id": "2334a4c9",
   "metadata": {
    "execution": {
     "iopub.execute_input": "2024-06-12T16:19:03.100755Z",
     "iopub.status.busy": "2024-06-12T16:19:03.100272Z",
     "iopub.status.idle": "2024-06-12T16:19:39.378585Z",
     "shell.execute_reply": "2024-06-12T16:19:39.377420Z"
    },
    "papermill": {
     "duration": 36.315465,
     "end_time": "2024-06-12T16:19:39.397792",
     "exception": false,
     "start_time": "2024-06-12T16:19:03.082327",
     "status": "completed"
    },
    "tags": []
   },
   "outputs": [
    {
     "data": {
      "text/html": [
       "<style>#sk-container-id-1 {color: black;background-color: white;}#sk-container-id-1 pre{padding: 0;}#sk-container-id-1 div.sk-toggleable {background-color: white;}#sk-container-id-1 label.sk-toggleable__label {cursor: pointer;display: block;width: 100%;margin-bottom: 0;padding: 0.3em;box-sizing: border-box;text-align: center;}#sk-container-id-1 label.sk-toggleable__label-arrow:before {content: \"▸\";float: left;margin-right: 0.25em;color: #696969;}#sk-container-id-1 label.sk-toggleable__label-arrow:hover:before {color: black;}#sk-container-id-1 div.sk-estimator:hover label.sk-toggleable__label-arrow:before {color: black;}#sk-container-id-1 div.sk-toggleable__content {max-height: 0;max-width: 0;overflow: hidden;text-align: left;background-color: #f0f8ff;}#sk-container-id-1 div.sk-toggleable__content pre {margin: 0.2em;color: black;border-radius: 0.25em;background-color: #f0f8ff;}#sk-container-id-1 input.sk-toggleable__control:checked~div.sk-toggleable__content {max-height: 200px;max-width: 100%;overflow: auto;}#sk-container-id-1 input.sk-toggleable__control:checked~label.sk-toggleable__label-arrow:before {content: \"▾\";}#sk-container-id-1 div.sk-estimator input.sk-toggleable__control:checked~label.sk-toggleable__label {background-color: #d4ebff;}#sk-container-id-1 div.sk-label input.sk-toggleable__control:checked~label.sk-toggleable__label {background-color: #d4ebff;}#sk-container-id-1 input.sk-hidden--visually {border: 0;clip: rect(1px 1px 1px 1px);clip: rect(1px, 1px, 1px, 1px);height: 1px;margin: -1px;overflow: hidden;padding: 0;position: absolute;width: 1px;}#sk-container-id-1 div.sk-estimator {font-family: monospace;background-color: #f0f8ff;border: 1px dotted black;border-radius: 0.25em;box-sizing: border-box;margin-bottom: 0.5em;}#sk-container-id-1 div.sk-estimator:hover {background-color: #d4ebff;}#sk-container-id-1 div.sk-parallel-item::after {content: \"\";width: 100%;border-bottom: 1px solid gray;flex-grow: 1;}#sk-container-id-1 div.sk-label:hover label.sk-toggleable__label {background-color: #d4ebff;}#sk-container-id-1 div.sk-serial::before {content: \"\";position: absolute;border-left: 1px solid gray;box-sizing: border-box;top: 0;bottom: 0;left: 50%;z-index: 0;}#sk-container-id-1 div.sk-serial {display: flex;flex-direction: column;align-items: center;background-color: white;padding-right: 0.2em;padding-left: 0.2em;position: relative;}#sk-container-id-1 div.sk-item {position: relative;z-index: 1;}#sk-container-id-1 div.sk-parallel {display: flex;align-items: stretch;justify-content: center;background-color: white;position: relative;}#sk-container-id-1 div.sk-item::before, #sk-container-id-1 div.sk-parallel-item::before {content: \"\";position: absolute;border-left: 1px solid gray;box-sizing: border-box;top: 0;bottom: 0;left: 50%;z-index: -1;}#sk-container-id-1 div.sk-parallel-item {display: flex;flex-direction: column;z-index: 1;position: relative;background-color: white;}#sk-container-id-1 div.sk-parallel-item:first-child::after {align-self: flex-end;width: 50%;}#sk-container-id-1 div.sk-parallel-item:last-child::after {align-self: flex-start;width: 50%;}#sk-container-id-1 div.sk-parallel-item:only-child::after {width: 0;}#sk-container-id-1 div.sk-dashed-wrapped {border: 1px dashed gray;margin: 0 0.4em 0.5em 0.4em;box-sizing: border-box;padding-bottom: 0.4em;background-color: white;}#sk-container-id-1 div.sk-label label {font-family: monospace;font-weight: bold;display: inline-block;line-height: 1.2em;}#sk-container-id-1 div.sk-label-container {text-align: center;}#sk-container-id-1 div.sk-container {/* jupyter's `normalize.less` sets `[hidden] { display: none; }` but bootstrap.min.css set `[hidden] { display: none !important; }` so we also need the `!important` here to be able to override the default hidden behavior on the sphinx rendered scikit-learn.org. See: https://github.com/scikit-learn/scikit-learn/issues/21755 */display: inline-block !important;position: relative;}#sk-container-id-1 div.sk-text-repr-fallback {display: none;}</style><div id=\"sk-container-id-1\" class=\"sk-top-container\"><div class=\"sk-text-repr-fallback\"><pre>PCA()</pre><b>In a Jupyter environment, please rerun this cell to show the HTML representation or trust the notebook. <br />On GitHub, the HTML representation is unable to render, please try loading this page with nbviewer.org.</b></div><div class=\"sk-container\" hidden><div class=\"sk-item\"><div class=\"sk-estimator sk-toggleable\"><input class=\"sk-toggleable__control sk-hidden--visually\" id=\"sk-estimator-id-1\" type=\"checkbox\" checked><label for=\"sk-estimator-id-1\" class=\"sk-toggleable__label sk-toggleable__label-arrow\">PCA</label><div class=\"sk-toggleable__content\"><pre>PCA()</pre></div></div></div></div></div>"
      ],
      "text/plain": [
       "PCA()"
      ]
     },
     "execution_count": 13,
     "metadata": {},
     "output_type": "execute_result"
    }
   ],
   "source": [
    "pca_full = PCA()\n",
    "pca_full.fit(normalized_images)"
   ]
  },
  {
   "cell_type": "code",
   "execution_count": 14,
   "id": "dbe2b0de",
   "metadata": {
    "execution": {
     "iopub.execute_input": "2024-06-12T16:19:39.433448Z",
     "iopub.status.busy": "2024-06-12T16:19:39.432959Z",
     "iopub.status.idle": "2024-06-12T16:19:39.438463Z",
     "shell.execute_reply": "2024-06-12T16:19:39.437299Z"
    },
    "papermill": {
     "duration": 0.026877,
     "end_time": "2024-06-12T16:19:39.441220",
     "exception": false,
     "start_time": "2024-06-12T16:19:39.414343",
     "status": "completed"
    },
    "tags": []
   },
   "outputs": [],
   "source": [
    "## determine the optimal number of PCs here\n",
    "explained_variance_ratio = pca_full.explained_variance_ratio_\n",
    "cumulative_explained_variance = np.cumsum(explained_variance_ratio)"
   ]
  },
  {
   "cell_type": "code",
   "execution_count": 15,
   "id": "0899e190",
   "metadata": {
    "execution": {
     "iopub.execute_input": "2024-06-12T16:19:39.477182Z",
     "iopub.status.busy": "2024-06-12T16:19:39.476748Z",
     "iopub.status.idle": "2024-06-12T16:19:39.859081Z",
     "shell.execute_reply": "2024-06-12T16:19:39.857806Z"
    },
    "papermill": {
     "duration": 0.403917,
     "end_time": "2024-06-12T16:19:39.862228",
     "exception": false,
     "start_time": "2024-06-12T16:19:39.458311",
     "status": "completed"
    },
    "tags": []
   },
   "outputs": [
    {
     "data": {
      "image/png": "[encoded data removed]",
      "text/plain": [
       "<Figure size 1000x600 with 1 Axes>"
      ]
     },
     "metadata": {},
     "output_type": "display_data"
    }
   ],
   "source": [
    "plt.figure(figsize=(10, 6))\n",
    "plt.plot(\n",
    "    range(1, len(cumulative_explained_variance) + 1),\n",
    "    cumulative_explained_variance,\n",
    "    marker=\"o\",\n",
    "    linestyle=\"--\",\n",
    ")\n",
    "plt.xlabel(\"Number of Principal Components\")\n",
    "plt.ylabel(\"Cumulative Explained Variance\")\n",
    "plt.title(\"Cumulative Explained Variance by Number of Principal Components\")\n",
    "plt.grid(True)\n",
    "plt.show()"
   ]
  },
  {
   "cell_type": "markdown",
   "id": "72e10772",
   "metadata": {
    "papermill": {
     "duration": 0.017434,
     "end_time": "2024-06-12T16:19:39.897176",
     "exception": false,
     "start_time": "2024-06-12T16:19:39.879742",
     "status": "completed"
    },
    "tags": []
   },
   "source": [
    "## 3. Image Classification\n"
   ]
  },
  {
   "cell_type": "markdown",
   "id": "e28fadcf",
   "metadata": {
    "papermill": {
     "duration": 0.020307,
     "end_time": "2024-06-12T16:19:39.934856",
     "exception": false,
     "start_time": "2024-06-12T16:19:39.914549",
     "status": "completed"
    },
    "tags": []
   },
   "source": [
    "The classification task will compare the performance using both:\n",
    "\n",
    "- Original data: The data before applying PCA.\n",
    "- Transformed data: The data projected onto the optimal number of principal components identified earlier. Utilize the **optimal number of principal components** identified in the previous question.\n",
    "\n",
    "Compare the performance of **4** different classification algorithms (3 machine learning and 1 MLP models) in both formats above. (4 points)\n",
    "\n",
    "Perform hyperparameter tuning using `GridSearchCV` for each classification method. (1 point)\n",
    "\n",
    "Inspiration: Draw inspiration from the example provided in the scikit-learn documentation: https://scikit-learn.org/dev/auto_examples/datasets/plot_iris_dataset.html\n"
   ]
  },
  {
   "cell_type": "code",
   "execution_count": 16,
   "id": "5fd74295",
   "metadata": {
    "execution": {
     "iopub.execute_input": "2024-06-12T16:19:39.972574Z",
     "iopub.status.busy": "2024-06-12T16:19:39.972131Z",
     "iopub.status.idle": "2024-06-12T16:20:54.509167Z",
     "shell.execute_reply": "2024-06-12T16:20:54.507526Z"
    },
    "papermill": {
     "duration": 74.560794,
     "end_time": "2024-06-12T16:20:54.513243",
     "exception": false,
     "start_time": "2024-06-12T16:19:39.952449",
     "status": "completed"
    },
    "tags": []
   },
   "outputs": [],
   "source": [
    "transformed_data = PCA(n_components=1000).fit_transform(normalized_images)"
   ]
  },
  {
   "cell_type": "code",
   "execution_count": 17,
   "id": "7cbd57f0",
   "metadata": {
    "execution": {
     "iopub.execute_input": "2024-06-12T16:20:54.555643Z",
     "iopub.status.busy": "2024-06-12T16:20:54.555202Z",
     "iopub.status.idle": "2024-06-12T16:20:54.649800Z",
     "shell.execute_reply": "2024-06-12T16:20:54.648212Z"
    },
    "papermill": {
     "duration": 0.11722,
     "end_time": "2024-06-12T16:20:54.652669",
     "exception": false,
     "start_time": "2024-06-12T16:20:54.535449",
     "status": "completed"
    },
    "tags": []
   },
   "outputs": [],
   "source": [
    "## splitting data into train/val/test subsets here\n",
    "X_train, X_test, y_train, y_test = train_test_split(transformed_data, labels, test_size=0.2)"
   ]
  },
  {
   "cell_type": "code",
   "execution_count": 18,
   "id": "0aebd382",
   "metadata": {
    "execution": {
     "iopub.execute_input": "2024-06-12T16:20:54.692580Z",
     "iopub.status.busy": "2024-06-12T16:20:54.691872Z",
     "iopub.status.idle": "2024-06-12T18:38:59.179085Z",
     "shell.execute_reply": "2024-06-12T18:38:59.177909Z"
    },
    "papermill": {
     "duration": 8284.527983,
     "end_time": "2024-06-12T18:38:59.198485",
     "exception": false,
     "start_time": "2024-06-12T16:20:54.670502",
     "status": "completed"
    },
    "tags": []
   },
   "outputs": [
    {
     "name": "stderr",
     "output_type": "stream",
     "text": [
      " 97%|█████████▋| 28/29 [2:11:32<06:52, 412.40s/it]"
     ]
    },
    {
     "name": "stdout",
     "output_type": "stream",
     "text": [
      "[LightGBM] [Info] Auto-choosing col-wise multi-threading, the overhead of testing was 0.810025 seconds.\n",
      "You can set `force_col_wise=true` to remove the overhead.\n",
      "[LightGBM] [Info] Total Bins 255000\n",
      "[LightGBM] [Info] Number of data points in the train set: 28709, number of used features: 1000\n",
      "[LightGBM] [Info] Start training from score -1.979705\n",
      "[LightGBM] [Info] Start training from score -4.178191\n",
      "[LightGBM] [Info] Start training from score -1.933621\n",
      "[LightGBM] [Info] Start training from score -1.386051\n",
      "[LightGBM] [Info] Start training from score -1.782778\n",
      "[LightGBM] [Info] Start training from score -2.195624\n",
      "[LightGBM] [Info] Start training from score -1.757823\n"
     ]
    },
    {
     "name": "stderr",
     "output_type": "stream",
     "text": [
      "100%|██████████| 29/29 [2:18:04<00:00, 285.66s/it]\n"
     ]
    }
   ],
   "source": [
    "clf = LazyClassifier(verbose=0, custom_metric=None)\n",
    "scores, predictions = clf.fit(X_train, X_test, y_train, y_test)"
   ]
  },
  {
   "cell_type": "code",
   "execution_count": 19,
   "id": "2009f63e",
   "metadata": {
    "execution": {
     "iopub.execute_input": "2024-06-12T18:38:59.246256Z",
     "iopub.status.busy": "2024-06-12T18:38:59.245736Z",
     "iopub.status.idle": "2024-06-12T18:38:59.263538Z",
     "shell.execute_reply": "2024-06-12T18:38:59.262370Z"
    },
    "papermill": {
     "duration": 0.046466,
     "end_time": "2024-06-12T18:38:59.266639",
     "exception": false,
     "start_time": "2024-06-12T18:38:59.220173",
     "status": "completed"
    },
    "tags": []
   },
   "outputs": [
    {
     "data": {
      "text/html": [
       "<div>\n",
       "<style scoped>\n",
       "    .dataframe tbody tr th:only-of-type {\n",
       "        vertical-align: middle;\n",
       "    }\n",
       "\n",
       "    .dataframe tbody tr th {\n",
       "        vertical-align: top;\n",
       "    }\n",
       "\n",
       "    .dataframe thead th {\n",
       "        text-align: right;\n",
       "    }\n",
       "</style>\n",
       "<table border=\"1\" class=\"dataframe\">\n",
       "  <thead>\n",
       "    <tr style=\"text-align: right;\">\n",
       "      <th></th>\n",
       "      <th>Accuracy</th>\n",
       "      <th>Balanced Accuracy</th>\n",
       "      <th>ROC AUC</th>\n",
       "      <th>F1 Score</th>\n",
       "      <th>Time Taken</th>\n",
       "    </tr>\n",
       "    <tr>\n",
       "      <th>Model</th>\n",
       "      <th></th>\n",
       "      <th></th>\n",
       "      <th></th>\n",
       "      <th></th>\n",
       "      <th></th>\n",
       "    </tr>\n",
       "  </thead>\n",
       "  <tbody>\n",
       "    <tr>\n",
       "      <th>XGBClassifier</th>\n",
       "      <td>0.41</td>\n",
       "      <td>0.37</td>\n",
       "      <td>None</td>\n",
       "      <td>0.40</td>\n",
       "      <td>634.04</td>\n",
       "    </tr>\n",
       "    <tr>\n",
       "      <th>LGBMClassifier</th>\n",
       "      <td>0.41</td>\n",
       "      <td>0.36</td>\n",
       "      <td>None</td>\n",
       "      <td>0.39</td>\n",
       "      <td>391.59</td>\n",
       "    </tr>\n",
       "    <tr>\n",
       "      <th>QuadraticDiscriminantAnalysis</th>\n",
       "      <td>0.43</td>\n",
       "      <td>0.35</td>\n",
       "      <td>None</td>\n",
       "      <td>0.40</td>\n",
       "      <td>28.07</td>\n",
       "    </tr>\n",
       "    <tr>\n",
       "      <th>SVC</th>\n",
       "      <td>0.40</td>\n",
       "      <td>0.33</td>\n",
       "      <td>None</td>\n",
       "      <td>0.38</td>\n",
       "      <td>1462.40</td>\n",
       "    </tr>\n",
       "    <tr>\n",
       "      <th>NearestCentroid</th>\n",
       "      <td>0.31</td>\n",
       "      <td>0.31</td>\n",
       "      <td>None</td>\n",
       "      <td>0.32</td>\n",
       "      <td>1.57</td>\n",
       "    </tr>\n",
       "    <tr>\n",
       "      <th>LogisticRegression</th>\n",
       "      <td>0.35</td>\n",
       "      <td>0.30</td>\n",
       "      <td>None</td>\n",
       "      <td>0.34</td>\n",
       "      <td>8.39</td>\n",
       "    </tr>\n",
       "    <tr>\n",
       "      <th>BaggingClassifier</th>\n",
       "      <td>0.32</td>\n",
       "      <td>0.30</td>\n",
       "      <td>None</td>\n",
       "      <td>0.32</td>\n",
       "      <td>407.49</td>\n",
       "    </tr>\n",
       "    <tr>\n",
       "      <th>LinearDiscriminantAnalysis</th>\n",
       "      <td>0.35</td>\n",
       "      <td>0.30</td>\n",
       "      <td>None</td>\n",
       "      <td>0.34</td>\n",
       "      <td>8.37</td>\n",
       "    </tr>\n",
       "    <tr>\n",
       "      <th>RandomForestClassifier</th>\n",
       "      <td>0.35</td>\n",
       "      <td>0.29</td>\n",
       "      <td>None</td>\n",
       "      <td>0.31</td>\n",
       "      <td>147.48</td>\n",
       "    </tr>\n",
       "    <tr>\n",
       "      <th>RidgeClassifier</th>\n",
       "      <td>0.36</td>\n",
       "      <td>0.28</td>\n",
       "      <td>None</td>\n",
       "      <td>0.33</td>\n",
       "      <td>3.82</td>\n",
       "    </tr>\n",
       "    <tr>\n",
       "      <th>RidgeClassifierCV</th>\n",
       "      <td>0.36</td>\n",
       "      <td>0.28</td>\n",
       "      <td>None</td>\n",
       "      <td>0.33</td>\n",
       "      <td>9.28</td>\n",
       "    </tr>\n",
       "    <tr>\n",
       "      <th>ExtraTreesClassifier</th>\n",
       "      <td>0.34</td>\n",
       "      <td>0.28</td>\n",
       "      <td>None</td>\n",
       "      <td>0.29</td>\n",
       "      <td>47.11</td>\n",
       "    </tr>\n",
       "    <tr>\n",
       "      <th>DecisionTreeClassifier</th>\n",
       "      <td>0.28</td>\n",
       "      <td>0.28</td>\n",
       "      <td>None</td>\n",
       "      <td>0.28</td>\n",
       "      <td>76.15</td>\n",
       "    </tr>\n",
       "    <tr>\n",
       "      <th>SGDClassifier</th>\n",
       "      <td>0.31</td>\n",
       "      <td>0.26</td>\n",
       "      <td>None</td>\n",
       "      <td>0.30</td>\n",
       "      <td>165.01</td>\n",
       "    </tr>\n",
       "    <tr>\n",
       "      <th>BernoulliNB</th>\n",
       "      <td>0.31</td>\n",
       "      <td>0.26</td>\n",
       "      <td>None</td>\n",
       "      <td>0.29</td>\n",
       "      <td>2.31</td>\n",
       "    </tr>\n",
       "    <tr>\n",
       "      <th>ExtraTreeClassifier</th>\n",
       "      <td>0.25</td>\n",
       "      <td>0.25</td>\n",
       "      <td>None</td>\n",
       "      <td>0.25</td>\n",
       "      <td>1.99</td>\n",
       "    </tr>\n",
       "    <tr>\n",
       "      <th>LabelPropagation</th>\n",
       "      <td>0.20</td>\n",
       "      <td>0.24</td>\n",
       "      <td>None</td>\n",
       "      <td>0.15</td>\n",
       "      <td>75.53</td>\n",
       "    </tr>\n",
       "    <tr>\n",
       "      <th>LabelSpreading</th>\n",
       "      <td>0.20</td>\n",
       "      <td>0.24</td>\n",
       "      <td>None</td>\n",
       "      <td>0.15</td>\n",
       "      <td>102.27</td>\n",
       "    </tr>\n",
       "    <tr>\n",
       "      <th>AdaBoostClassifier</th>\n",
       "      <td>0.31</td>\n",
       "      <td>0.24</td>\n",
       "      <td>None</td>\n",
       "      <td>0.27</td>\n",
       "      <td>293.78</td>\n",
       "    </tr>\n",
       "    <tr>\n",
       "      <th>LinearSVC</th>\n",
       "      <td>0.29</td>\n",
       "      <td>0.24</td>\n",
       "      <td>None</td>\n",
       "      <td>0.28</td>\n",
       "      <td>902.76</td>\n",
       "    </tr>\n",
       "    <tr>\n",
       "      <th>Perceptron</th>\n",
       "      <td>0.27</td>\n",
       "      <td>0.24</td>\n",
       "      <td>None</td>\n",
       "      <td>0.27</td>\n",
       "      <td>5.11</td>\n",
       "    </tr>\n",
       "    <tr>\n",
       "      <th>CalibratedClassifierCV</th>\n",
       "      <td>0.33</td>\n",
       "      <td>0.23</td>\n",
       "      <td>None</td>\n",
       "      <td>0.25</td>\n",
       "      <td>3474.57</td>\n",
       "    </tr>\n",
       "    <tr>\n",
       "      <th>PassiveAggressiveClassifier</th>\n",
       "      <td>0.26</td>\n",
       "      <td>0.23</td>\n",
       "      <td>None</td>\n",
       "      <td>0.26</td>\n",
       "      <td>11.22</td>\n",
       "    </tr>\n",
       "    <tr>\n",
       "      <th>GaussianNB</th>\n",
       "      <td>0.16</td>\n",
       "      <td>0.22</td>\n",
       "      <td>None</td>\n",
       "      <td>0.18</td>\n",
       "      <td>2.30</td>\n",
       "    </tr>\n",
       "    <tr>\n",
       "      <th>KNeighborsClassifier</th>\n",
       "      <td>0.17</td>\n",
       "      <td>0.19</td>\n",
       "      <td>None</td>\n",
       "      <td>0.11</td>\n",
       "      <td>17.33</td>\n",
       "    </tr>\n",
       "    <tr>\n",
       "      <th>DummyClassifier</th>\n",
       "      <td>0.25</td>\n",
       "      <td>0.14</td>\n",
       "      <td>None</td>\n",
       "      <td>0.10</td>\n",
       "      <td>1.54</td>\n",
       "    </tr>\n",
       "  </tbody>\n",
       "</table>\n",
       "</div>"
      ],
      "text/plain": [
       "                               Accuracy  Balanced Accuracy ROC AUC  F1 Score  \\\n",
       "Model                                                                          \n",
       "XGBClassifier                      0.41               0.37    None      0.40   \n",
       "LGBMClassifier                     0.41               0.36    None      0.39   \n",
       "QuadraticDiscriminantAnalysis      0.43               0.35    None      0.40   \n",
       "SVC                                0.40               0.33    None      0.38   \n",
       "NearestCentroid                    0.31               0.31    None      0.32   \n",
       "LogisticRegression                 0.35               0.30    None      0.34   \n",
       "BaggingClassifier                  0.32               0.30    None      0.32   \n",
       "LinearDiscriminantAnalysis         0.35               0.30    None      0.34   \n",
       "RandomForestClassifier             0.35               0.29    None      0.31   \n",
       "RidgeClassifier                    0.36               0.28    None      0.33   \n",
       "RidgeClassifierCV                  0.36               0.28    None      0.33   \n",
       "ExtraTreesClassifier               0.34               0.28    None      0.29   \n",
       "DecisionTreeClassifier             0.28               0.28    None      0.28   \n",
       "SGDClassifier                      0.31               0.26    None      0.30   \n",
       "BernoulliNB                        0.31               0.26    None      0.29   \n",
       "ExtraTreeClassifier                0.25               0.25    None      0.25   \n",
       "LabelPropagation                   0.20               0.24    None      0.15   \n",
       "LabelSpreading                     0.20               0.24    None      0.15   \n",
       "AdaBoostClassifier                 0.31               0.24    None      0.27   \n",
       "LinearSVC                          0.29               0.24    None      0.28   \n",
       "Perceptron                         0.27               0.24    None      0.27   \n",
       "CalibratedClassifierCV             0.33               0.23    None      0.25   \n",
       "PassiveAggressiveClassifier        0.26               0.23    None      0.26   \n",
       "GaussianNB                         0.16               0.22    None      0.18   \n",
       "KNeighborsClassifier               0.17               0.19    None      0.11   \n",
       "DummyClassifier                    0.25               0.14    None      0.10   \n",
       "\n",
       "                               Time Taken  \n",
       "Model                                      \n",
       "XGBClassifier                      634.04  \n",
       "LGBMClassifier                     391.59  \n",
       "QuadraticDiscriminantAnalysis       28.07  \n",
       "SVC                               1462.40  \n",
       "NearestCentroid                      1.57  \n",
       "LogisticRegression                   8.39  \n",
       "BaggingClassifier                  407.49  \n",
       "LinearDiscriminantAnalysis           8.37  \n",
       "RandomForestClassifier             147.48  \n",
       "RidgeClassifier                      3.82  \n",
       "RidgeClassifierCV                    9.28  \n",
       "ExtraTreesClassifier                47.11  \n",
       "DecisionTreeClassifier              76.15  \n",
       "SGDClassifier                      165.01  \n",
       "BernoulliNB                          2.31  \n",
       "ExtraTreeClassifier                  1.99  \n",
       "LabelPropagation                    75.53  \n",
       "LabelSpreading                     102.27  \n",
       "AdaBoostClassifier                 293.78  \n",
       "LinearSVC                          902.76  \n",
       "Perceptron                           5.11  \n",
       "CalibratedClassifierCV            3474.57  \n",
       "PassiveAggressiveClassifier         11.22  \n",
       "GaussianNB                           2.30  \n",
       "KNeighborsClassifier                17.33  \n",
       "DummyClassifier                      1.54  "
      ]
     },
     "metadata": {},
     "output_type": "display_data"
    }
   ],
   "source": [
    "display(scores)"
   ]
  },
  {
   "cell_type": "markdown",
   "id": "adf12093",
   "metadata": {
    "papermill": {
     "duration": 0.022287,
     "end_time": "2024-06-12T18:38:59.311007",
     "exception": false,
     "start_time": "2024-06-12T18:38:59.288720",
     "status": "completed"
    },
    "tags": []
   },
   "source": [
    "## 4. Evaluating Classification Performance\n",
    "\n",
    "Compare the performance of the different classification models using various metrics: accuracy, precision, recall, and F1-score.\n",
    "Based on the evaluation metrics, explain which model performs best and why. Identify the emotion category where the model makes the most accurate and most errors. (1 point)\n"
   ]
  },
  {
   "cell_type": "code",
   "execution_count": 20,
   "id": "8260151f",
   "metadata": {
    "execution": {
     "iopub.execute_input": "2024-06-12T18:38:59.357310Z",
     "iopub.status.busy": "2024-06-12T18:38:59.356814Z",
     "iopub.status.idle": "2024-06-12T18:38:59.362411Z",
     "shell.execute_reply": "2024-06-12T18:38:59.361167Z"
    },
    "papermill": {
     "duration": 0.031966,
     "end_time": "2024-06-12T18:38:59.365268",
     "exception": false,
     "start_time": "2024-06-12T18:38:59.333302",
     "status": "completed"
    },
    "tags": []
   },
   "outputs": [],
   "source": [
    "## visualize the confusion matrices and classification reports here"
   ]
  }
 ],
 "metadata": {
  "kaggle": {
   "accelerator": "none",
   "dataSources": [
    {
     "datasetId": 5195321,
     "sourceId": 8669212,
     "sourceType": "datasetVersion"
    }
   ],
   "dockerImageVersionId": 30732,
   "isGpuEnabled": false,
   "isInternetEnabled": true,
   "language": "python",
   "sourceType": "notebook"
  },
  "kernelspec": {
   "display_name": "Python 3",
   "language": "python",
   "name": "python3"
  },
  "language_info": {
   "codemirror_mode": {
    "name": "ipython",
    "version": 3
   },
   "file_extension": ".py",
   "mimetype": "text/x-python",
   "name": "python",
   "nbconvert_exporter": "python",
   "pygments_lexer": "ipython3",
   "version": "3.10.13"
  },
  "papermill": {
   "default_parameters": {},
   "duration": 8444.333736,
   "end_time": "2024-06-12T18:39:00.936739",
   "environment_variables": {},
   "exception": null,
   "input_path": "__notebook__.ipynb",
   "output_path": "__notebook__.ipynb",
   "parameters": {},
   "start_time": "2024-06-12T16:18:16.603003",
   "version": "2.5.0"
  }
 },
 "nbformat": 4,
 "nbformat_minor": 5
}
