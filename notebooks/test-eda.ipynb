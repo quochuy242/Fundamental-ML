{
 "cells": [
  {
   "cell_type": "markdown",
   "id": "1ba5d252",
   "metadata": {
    "papermill": {
     "duration": 0.010348,
     "end_time": "2024-06-16T09:49:49.347126",
     "exception": false,
     "start_time": "2024-06-16T09:49:49.336778",
     "status": "completed"
    },
    "tags": []
   },
   "source": [
    "# Mini-Project for Fundamentals of Machine Learning Course\n",
    "\n",
    "In this study, facial expression recognition was performed on the face images from the Facial Expression Recognition Challenge (FER2013) dataset.\n",
    "\n",
    "One motivation for representation learning is that learning algorithms can design features more effectively and efficiently than humans can. However, this challenge does not explicitly require entries to use representation learning. The dataset, assembled from the internet, is designed for facial expression classification.\n",
    "\n",
    "The data consists of grayscale images of faces, each measuring 48x48 pixels. The faces have been automatically aligned to be roughly centered and occupy a similar area within each image. The task is to categorize each face based on the emotion expressed, assigning it to one of seven categories (0=Angry, 1=Disgust, 2=Fear, 3=Happy, 4=Sad, 5=Surprise, 6=Neutral). The dataset contains a total of 35,887 examples.\n"
   ]
  },
  {
   "cell_type": "markdown",
   "id": "17911de7",
   "metadata": {
    "papermill": {
     "duration": 0.00964,
     "end_time": "2024-06-16T09:49:49.366730",
     "exception": false,
     "start_time": "2024-06-16T09:49:49.357090",
     "status": "completed"
    },
    "tags": []
   },
   "source": [
    "## 1. Prerequisite\n",
    "\n",
    "This section provides some basic steps for accessing and visualizing the dataset.\n"
   ]
  },
  {
   "cell_type": "code",
   "execution_count": 1,
   "id": "379ea982",
   "metadata": {
    "execution": {
     "iopub.execute_input": "2024-06-16T09:49:49.388624Z",
     "iopub.status.busy": "2024-06-16T09:49:49.388090Z",
     "iopub.status.idle": "2024-06-16T09:50:07.374228Z",
     "shell.execute_reply": "2024-06-16T09:50:07.372780Z"
    },
    "papermill": {
     "duration": 18.000537,
     "end_time": "2024-06-16T09:50:07.377128",
     "exception": false,
     "start_time": "2024-06-16T09:49:49.376591",
     "status": "completed"
    },
    "tags": []
   },
   "outputs": [
    {
     "name": "stdout",
     "output_type": "stream",
     "text": [
      "Collecting lazypredict\r\n",
      "  Downloading lazypredict-0.2.12-py2.py3-none-any.whl.metadata (12 kB)\r\n",
      "Requirement already satisfied: click in /opt/conda/lib/python3.10/site-packages (from lazypredict) (8.1.7)\r\n",
      "Requirement already satisfied: scikit-learn in /opt/conda/lib/python3.10/site-packages (from lazypredict) (1.2.2)\r\n",
      "Requirement already satisfied: pandas in /opt/conda/lib/python3.10/site-packages (from lazypredict) (2.2.2)\r\n",
      "Requirement already satisfied: tqdm in /opt/conda/lib/python3.10/site-packages (from lazypredict) (4.66.4)\r\n",
      "Requirement already satisfied: joblib in /opt/conda/lib/python3.10/site-packages (from lazypredict) (1.4.2)\r\n",
      "Requirement already satisfied: lightgbm in /opt/conda/lib/python3.10/site-packages (from lazypredict) (4.2.0)\r\n",
      "Requirement already satisfied: xgboost in /opt/conda/lib/python3.10/site-packages (from lazypredict) (2.0.3)\r\n",
      "Requirement already satisfied: numpy in /opt/conda/lib/python3.10/site-packages (from lightgbm->lazypredict) (1.26.4)\r\n",
      "Requirement already satisfied: scipy in /opt/conda/lib/python3.10/site-packages (from lightgbm->lazypredict) (1.11.4)\r\n",
      "Requirement already satisfied: python-dateutil>=2.8.2 in /opt/conda/lib/python3.10/site-packages (from pandas->lazypredict) (2.9.0.post0)\r\n",
      "Requirement already satisfied: pytz>=2020.1 in /opt/conda/lib/python3.10/site-packages (from pandas->lazypredict) (2023.3.post1)\r\n",
      "Requirement already satisfied: tzdata>=2022.7 in /opt/conda/lib/python3.10/site-packages (from pandas->lazypredict) (2023.4)\r\n",
      "Requirement already satisfied: threadpoolctl>=2.0.0 in /opt/conda/lib/python3.10/site-packages (from scikit-learn->lazypredict) (3.2.0)\r\n",
      "Requirement already satisfied: six>=1.5 in /opt/conda/lib/python3.10/site-packages (from python-dateutil>=2.8.2->pandas->lazypredict) (1.16.0)\r\n",
      "Downloading lazypredict-0.2.12-py2.py3-none-any.whl (12 kB)\r\n",
      "Installing collected packages: lazypredict\r\n",
      "Successfully installed lazypredict-0.2.12\r\n"
     ]
    }
   ],
   "source": [
    "!pip install lazypredict"
   ]
  },
  {
   "cell_type": "code",
   "execution_count": 2,
   "id": "af550df6",
   "metadata": {
    "execution": {
     "iopub.execute_input": "2024-06-16T09:50:07.401706Z",
     "iopub.status.busy": "2024-06-16T09:50:07.401220Z",
     "iopub.status.idle": "2024-06-16T09:50:13.060738Z",
     "shell.execute_reply": "2024-06-16T09:50:13.059491Z"
    },
    "papermill": {
     "duration": 5.675473,
     "end_time": "2024-06-16T09:50:13.063630",
     "exception": false,
     "start_time": "2024-06-16T09:50:07.388157",
     "status": "completed"
    },
    "tags": []
   },
   "outputs": [
    {
     "name": "stderr",
     "output_type": "stream",
     "text": [
      "/tmp/ipykernel_18/2573664183.py:7: TqdmExperimentalWarning: Using `tqdm.autonotebook.tqdm` in notebook mode. Use `tqdm.tqdm` instead to force console mode (e.g. in jupyter console)\n",
      "  from tqdm.autonotebook import tqdm, trange\n"
     ]
    }
   ],
   "source": [
    "import pandas as pd\n",
    "import numpy as np\n",
    "import matplotlib as mpl\n",
    "from matplotlib import pyplot as plt\n",
    "from sklearn.decomposition import PCA\n",
    "from sklearn.model_selection import train_test_split, GridSearchCV\n",
    "from tqdm.autonotebook import tqdm, trange\n",
    "from lazypredict.Supervised import LazyClassifier\n",
    "from skimage import data, img_as_float, exposure\n",
    "\n",
    "mpl.rcParams['font.size'] = 8"
   ]
  },
  {
   "cell_type": "code",
   "execution_count": 3,
   "id": "d014907e",
   "metadata": {
    "execution": {
     "iopub.execute_input": "2024-06-16T09:50:13.088160Z",
     "iopub.status.busy": "2024-06-16T09:50:13.087496Z",
     "iopub.status.idle": "2024-06-16T09:50:13.096406Z",
     "shell.execute_reply": "2024-06-16T09:50:13.095211Z"
    },
    "papermill": {
     "duration": 0.024012,
     "end_time": "2024-06-16T09:50:13.098908",
     "exception": false,
     "start_time": "2024-06-16T09:50:13.074896",
     "status": "completed"
    },
    "tags": []
   },
   "outputs": [],
   "source": [
    "def parse_data(data: pd.DataFrame):\n",
    "    \"\"\"\n",
    "    Reads input dataframe then return arrays of images and labels\n",
    "    \"\"\"\n",
    "    image_array = np.zeros(shape=(len(data), 48, 48))\n",
    "    image_label = np.array(list(map(int, data[\"emotion\"])))\n",
    "\n",
    "    for i, row in tqdm(enumerate(data.index)):\n",
    "        image = np.fromstring(data.loc[row, \"pixels\"], dtype=int, sep=\" \")\n",
    "        image = np.reshape(image, (48, 48))\n",
    "        image_array[i] = image\n",
    "\n",
    "    return image_array, image_label"
   ]
  },
  {
   "cell_type": "code",
   "execution_count": 4,
   "id": "7a792134",
   "metadata": {
    "execution": {
     "iopub.execute_input": "2024-06-16T09:50:13.122815Z",
     "iopub.status.busy": "2024-06-16T09:50:13.122375Z",
     "iopub.status.idle": "2024-06-16T09:50:13.130727Z",
     "shell.execute_reply": "2024-06-16T09:50:13.129472Z"
    },
    "papermill": {
     "duration": 0.023275,
     "end_time": "2024-06-16T09:50:13.133256",
     "exception": false,
     "start_time": "2024-06-16T09:50:13.109981",
     "status": "completed"
    },
    "tags": []
   },
   "outputs": [],
   "source": [
    "def show_img(images: np.ndarray, labels: np.ndarray):\n",
    "    \"\"\"\n",
    "    Visualize images and labels respectively\n",
    "    \"\"\"\n",
    "    _, axarr = plt.subplots(nrows=2, ncols=5, figsize=(18, 9))\n",
    "    axarr = axarr.flatten()\n",
    "    for idx, label in enumerate(labels[:10]):\n",
    "        axarr[idx].imshow(images[idx], cmap=\"gray\")\n",
    "        axarr[idx].set_xticks([])\n",
    "        axarr[idx].set_yticks([])\n",
    "        axarr[idx].set_title(\"Label:{}\".format(label))"
   ]
  },
  {
   "cell_type": "code",
   "execution_count": 5,
   "id": "1e2fa9dc",
   "metadata": {
    "execution": {
     "iopub.execute_input": "2024-06-16T09:50:13.157449Z",
     "iopub.status.busy": "2024-06-16T09:50:13.156994Z",
     "iopub.status.idle": "2024-06-16T09:50:20.294693Z",
     "shell.execute_reply": "2024-06-16T09:50:20.293324Z"
    },
    "papermill": {
     "duration": 7.15311,
     "end_time": "2024-06-16T09:50:20.297413",
     "exception": false,
     "start_time": "2024-06-16T09:50:13.144303",
     "status": "completed"
    },
    "tags": []
   },
   "outputs": [
    {
     "data": {
      "text/html": [
       "<div>\n",
       "<style scoped>\n",
       "    .dataframe tbody tr th:only-of-type {\n",
       "        vertical-align: middle;\n",
       "    }\n",
       "\n",
       "    .dataframe tbody tr th {\n",
       "        vertical-align: top;\n",
       "    }\n",
       "\n",
       "    .dataframe thead th {\n",
       "        text-align: right;\n",
       "    }\n",
       "</style>\n",
       "<table border=\"1\" class=\"dataframe\">\n",
       "  <thead>\n",
       "    <tr style=\"text-align: right;\">\n",
       "      <th></th>\n",
       "      <th>emotion</th>\n",
       "      <th>pixels</th>\n",
       "    </tr>\n",
       "  </thead>\n",
       "  <tbody>\n",
       "    <tr>\n",
       "      <th>0</th>\n",
       "      <td>0</td>\n",
       "      <td>70 80 82 72 58 58 60 63 54 58 60 48 89 115 121...</td>\n",
       "    </tr>\n",
       "    <tr>\n",
       "      <th>1</th>\n",
       "      <td>0</td>\n",
       "      <td>151 150 147 155 148 133 111 140 170 174 182 15...</td>\n",
       "    </tr>\n",
       "    <tr>\n",
       "      <th>2</th>\n",
       "      <td>2</td>\n",
       "      <td>231 212 156 164 174 138 161 173 182 200 106 38...</td>\n",
       "    </tr>\n",
       "    <tr>\n",
       "      <th>3</th>\n",
       "      <td>4</td>\n",
       "      <td>24 32 36 30 32 23 19 20 30 41 21 22 32 34 21 1...</td>\n",
       "    </tr>\n",
       "    <tr>\n",
       "      <th>4</th>\n",
       "      <td>6</td>\n",
       "      <td>4 0 0 0 0 0 0 0 0 0 0 0 3 15 23 28 48 50 58 84...</td>\n",
       "    </tr>\n",
       "  </tbody>\n",
       "</table>\n",
       "</div>"
      ],
      "text/plain": [
       "   emotion                                             pixels\n",
       "0        0  70 80 82 72 58 58 60 63 54 58 60 48 89 115 121...\n",
       "1        0  151 150 147 155 148 133 111 140 170 174 182 15...\n",
       "2        2  231 212 156 164 174 138 161 173 182 200 106 38...\n",
       "3        4  24 32 36 30 32 23 19 20 30 41 21 22 32 34 21 1...\n",
       "4        6  4 0 0 0 0 0 0 0 0 0 0 0 3 15 23 28 48 50 58 84..."
      ]
     },
     "execution_count": 5,
     "metadata": {},
     "output_type": "execute_result"
    }
   ],
   "source": [
    "## load dataset here\n",
    "df = pd.read_csv(\"/kaggle/input/dataset-projectml-fer2013/icml_face_data.csv\")\n",
    "df.head()"
   ]
  },
  {
   "cell_type": "markdown",
   "id": "d4fe6d90",
   "metadata": {
    "papermill": {
     "duration": 0.010876,
     "end_time": "2024-06-16T09:50:20.320041",
     "exception": false,
     "start_time": "2024-06-16T09:50:20.309165",
     "status": "completed"
    },
    "tags": []
   },
   "source": [
    "The `emotion` column contains a numeric code ranging from 0 to 6, inclusive, for the emotion expressed by the image. The \"pixels\" column contains a string surrounded in quotes for each image.\n"
   ]
  },
  {
   "cell_type": "code",
   "execution_count": 6,
   "id": "dee4174a",
   "metadata": {
    "execution": {
     "iopub.execute_input": "2024-06-16T09:50:20.343975Z",
     "iopub.status.busy": "2024-06-16T09:50:20.343575Z",
     "iopub.status.idle": "2024-06-16T09:50:25.034254Z",
     "shell.execute_reply": "2024-06-16T09:50:25.032949Z"
    },
    "papermill": {
     "duration": 4.705882,
     "end_time": "2024-06-16T09:50:25.037113",
     "exception": false,
     "start_time": "2024-06-16T09:50:20.331231",
     "status": "completed"
    },
    "tags": []
   },
   "outputs": [
    {
     "data": {
      "application/vnd.jupyter.widget-view+json": {
       "model_id": "7c56c36284224be3ad1ccb9cfd2d42a8",
       "version_major": 2,
       "version_minor": 0
      },
      "text/plain": [
       "0it [00:00, ?it/s]"
      ]
     },
     "metadata": {},
     "output_type": "display_data"
    }
   ],
   "source": [
    "## parsing data here\n",
    "images, labels = parse_data(df)"
   ]
  },
  {
   "cell_type": "code",
   "execution_count": 7,
   "id": "1bbdf0be",
   "metadata": {
    "execution": {
     "iopub.execute_input": "2024-06-16T09:50:25.063006Z",
     "iopub.status.busy": "2024-06-16T09:50:25.062571Z",
     "iopub.status.idle": "2024-06-16T09:50:25.957929Z",
     "shell.execute_reply": "2024-06-16T09:50:25.956490Z"
    },
    "papermill": {
     "duration": 0.911269,
     "end_time": "2024-06-16T09:50:25.960784",
     "exception": false,
     "start_time": "2024-06-16T09:50:25.049515",
     "status": "completed"
    },
    "tags": []
   },
   "outputs": [
    {
     "data": {
      "image/png": "[encoded data removed]",
      "text/plain": [
       "<Figure size 1800x900 with 10 Axes>"
      ]
     },
     "metadata": {},
     "output_type": "display_data"
    }
   ],
   "source": [
    "## showing images here\n",
    "show_img(images, labels)"
   ]
  },
  {
   "cell_type": "markdown",
   "id": "c4fa9f6e",
   "metadata": {
    "papermill": {
     "duration": 0.013111,
     "end_time": "2024-06-16T09:50:25.987594",
     "exception": false,
     "start_time": "2024-06-16T09:50:25.974483",
     "status": "completed"
    },
    "tags": []
   },
   "source": [
    "## 2'. Prepocessing original images"
   ]
  },
  {
   "cell_type": "markdown",
   "id": "5ff11911",
   "metadata": {
    "papermill": {
     "duration": 0.012279,
     "end_time": "2024-06-16T09:50:26.012781",
     "exception": false,
     "start_time": "2024-06-16T09:50:26.000502",
     "status": "completed"
    },
    "tags": []
   },
   "source": [
    "## Normalizing Image"
   ]
  },
  {
   "cell_type": "code",
   "execution_count": 8,
   "id": "aa863bfc",
   "metadata": {
    "execution": {
     "iopub.execute_input": "2024-06-16T09:50:26.040626Z",
     "iopub.status.busy": "2024-06-16T09:50:26.040170Z",
     "iopub.status.idle": "2024-06-16T09:50:26.522502Z",
     "shell.execute_reply": "2024-06-16T09:50:26.521324Z"
    },
    "papermill": {
     "duration": 0.500059,
     "end_time": "2024-06-16T09:50:26.525418",
     "exception": false,
     "start_time": "2024-06-16T09:50:26.025359",
     "status": "completed"
    },
    "tags": []
   },
   "outputs": [],
   "source": [
    "raw_images = images.copy()\n",
    "normalized_images = images / 255.0"
   ]
  },
  {
   "cell_type": "markdown",
   "id": "91231b8d",
   "metadata": {
    "papermill": {
     "duration": 0.015554,
     "end_time": "2024-06-16T09:50:26.554741",
     "exception": false,
     "start_time": "2024-06-16T09:50:26.539187",
     "status": "completed"
    },
    "tags": []
   },
   "source": [
    "### Histogram Equalization"
   ]
  },
  {
   "cell_type": "code",
   "execution_count": 9,
   "id": "d76adf78",
   "metadata": {
    "execution": {
     "iopub.execute_input": "2024-06-16T09:50:26.584011Z",
     "iopub.status.busy": "2024-06-16T09:50:26.583581Z",
     "iopub.status.idle": "2024-06-16T09:50:26.593730Z",
     "shell.execute_reply": "2024-06-16T09:50:26.592429Z"
    },
    "papermill": {
     "duration": 0.028112,
     "end_time": "2024-06-16T09:50:26.596673",
     "exception": false,
     "start_time": "2024-06-16T09:50:26.568561",
     "status": "completed"
    },
    "tags": []
   },
   "outputs": [],
   "source": [
    "def plot_img_and_hist(image, axes, bins=256):\n",
    "    \"\"\"Plot an image along with its histogram and cumulative histogram.\"\"\"\n",
    "    image = img_as_float(image)\n",
    "    ax_img, ax_hist = axes\n",
    "    ax_cdf = ax_hist.twinx()\n",
    "\n",
    "    # Display image\n",
    "    ax_img.imshow(image, cmap=plt.cm.gray)\n",
    "    ax_img.set_axis_off()\n",
    "\n",
    "    # Display histogram\n",
    "    ax_hist.hist(image.ravel(), bins=bins, histtype='step', color='black')\n",
    "    ax_hist.ticklabel_format(axis='y', style='scientific', scilimits=(0, 0))\n",
    "    ax_hist.set_xlabel('Pixel intensity')\n",
    "    ax_hist.set_xlim(0, 1)\n",
    "    ax_hist.set_yticks([])\n",
    "\n",
    "    # Display cumulative distribution\n",
    "    img_cdf, bins = exposure.cumulative_distribution(image, bins)\n",
    "    ax_cdf.plot(bins, img_cdf, 'r')\n",
    "    ax_cdf.set_yticks([])\n",
    "\n",
    "    return ax_img, ax_hist, ax_cdf"
   ]
  },
  {
   "cell_type": "code",
   "execution_count": 10,
   "id": "5bdfc913",
   "metadata": {
    "execution": {
     "iopub.execute_input": "2024-06-16T09:50:26.625003Z",
     "iopub.status.busy": "2024-06-16T09:50:26.624561Z",
     "iopub.status.idle": "2024-06-16T09:50:28.121225Z",
     "shell.execute_reply": "2024-06-16T09:50:28.119933Z"
    },
    "papermill": {
     "duration": 1.514719,
     "end_time": "2024-06-16T09:50:28.124822",
     "exception": false,
     "start_time": "2024-06-16T09:50:26.610103",
     "status": "completed"
    },
    "tags": []
   },
   "outputs": [
    {
     "data": {
      "image/png": "[encoded data removed]",
      "text/plain": [
       "<Figure size 800x500 with 12 Axes>"
      ]
     },
     "metadata": {},
     "output_type": "display_data"
    }
   ],
   "source": [
    "# Load an example image\n",
    "img = normalized_images[-1]\n",
    "\n",
    "# Contrast stretching\n",
    "p2, p98 = np.percentile(img, (2, 98))\n",
    "img_rescale = exposure.rescale_intensity(img, in_range=(p2, p98))\n",
    "\n",
    "# Equalization\n",
    "img_eq = exposure.equalize_hist(img)\n",
    "\n",
    "# Adaptive Equalization\n",
    "img_adapteq = exposure.equalize_adapthist(img, clip_limit=0.03)\n",
    "\n",
    "# Display results\n",
    "fig = plt.figure(figsize=(8, 5))\n",
    "axes = np.zeros((2, 4), dtype=object)\n",
    "axes[0, 0] = fig.add_subplot(2, 4, 1)\n",
    "for i in range(1, 4):\n",
    "    axes[0, i] = fig.add_subplot(2, 4, 1 + i, sharex=axes[0, 0], sharey=axes[0, 0])\n",
    "for i in range(0, 4):\n",
    "    axes[1, i] = fig.add_subplot(2, 4, 5 + i)\n",
    "\n",
    "ax_img, ax_hist, ax_cdf = plot_img_and_hist(img, axes[:, 0])\n",
    "ax_img.set_title('Low contrast image')\n",
    "\n",
    "y_min, y_max = ax_hist.get_ylim()\n",
    "ax_hist.set_ylabel('Number of pixels')\n",
    "ax_hist.set_yticks(np.linspace(0, y_max, 5))\n",
    "\n",
    "ax_img, ax_hist, ax_cdf = plot_img_and_hist(img_rescale, axes[:, 1])\n",
    "ax_img.set_title('Contrast stretching')\n",
    "\n",
    "ax_img, ax_hist, ax_cdf = plot_img_and_hist(img_eq, axes[:, 2])\n",
    "ax_img.set_title('Histogram equalization')\n",
    "\n",
    "ax_img, ax_hist, ax_cdf = plot_img_and_hist(img_adapteq, axes[:, 3])\n",
    "ax_img.set_title('Adaptive equalization')\n",
    "\n",
    "ax_cdf.set_ylabel('Fraction of total intensity')\n",
    "ax_cdf.set_yticks(np.linspace(0, 1, 5))\n",
    "\n",
    "# prevent overlap of y-axis labels\n",
    "fig.tight_layout()\n",
    "plt.show()"
   ]
  },
  {
   "cell_type": "code",
   "execution_count": 11,
   "id": "cedf161a",
   "metadata": {
    "execution": {
     "iopub.execute_input": "2024-06-16T09:50:28.160103Z",
     "iopub.status.busy": "2024-06-16T09:50:28.159141Z",
     "iopub.status.idle": "2024-06-16T09:53:50.727773Z",
     "shell.execute_reply": "2024-06-16T09:53:50.726408Z"
    },
    "papermill": {
     "duration": 202.589077,
     "end_time": "2024-06-16T09:53:50.730838",
     "exception": false,
     "start_time": "2024-06-16T09:50:28.141761",
     "status": "completed"
    },
    "tags": []
   },
   "outputs": [
    {
     "data": {
      "application/vnd.jupyter.widget-view+json": {
       "model_id": "4f049f3da2da46179db463e8cb92e9e5",
       "version_major": 2,
       "version_minor": 0
      },
      "text/plain": [
       "  0%|          | 0/35887 [00:00<?, ?it/s]"
      ]
     },
     "metadata": {},
     "output_type": "display_data"
    }
   ],
   "source": [
    "adapteq_images = np.array([exposure.equalize_adapthist(img, clip_limit=0.03) \n",
    "                     for img in tqdm(normalized_images)])"
   ]
  },
  {
   "cell_type": "markdown",
   "id": "ea2598d7",
   "metadata": {
    "papermill": {
     "duration": 0.014917,
     "end_time": "2024-06-16T09:53:50.761474",
     "exception": false,
     "start_time": "2024-06-16T09:53:50.746557",
     "status": "completed"
    },
    "tags": []
   },
   "source": [
    "## 2. Principle Component Analysis\n",
    "\n",
    "Unsupervised learning can be further categorized into two main tasks: data transformation and clustering. In this study, we will focus on data transformation using unsupervised learning techniques. These techniques aim to modify the data to make it easier for computers and humans to analyze and understand.\n",
    "\n",
    "One of the most common applications of unsupervised data transformation is dimensionality reduction. This process reduces the number of features (dimensions) in the data. When the data has a high number of features, it can be computationally expensive and difficult to analyze. Dimensionality reduction techniques help to overcome these challenges.\n",
    "\n",
    "Principal Component Analysis (PCA) is a popular technique for dimensionality reduction. It transforms the data into a new set of features called principal components (PCs). These PCs are ordered by their importance, capturing the most significant variations in the data. By selecting a subset of the most informative PCs, we can achieve a significant reduction in data size while preserving the essential information for analysis.\n"
   ]
  },
  {
   "cell_type": "markdown",
   "id": "3b8a1ef3",
   "metadata": {
    "papermill": {
     "duration": 0.014976,
     "end_time": "2024-06-16T09:53:50.791312",
     "exception": false,
     "start_time": "2024-06-16T09:53:50.776336",
     "status": "completed"
    },
    "tags": []
   },
   "source": [
    "Question 1: Can you visualize the data projected onto two principal components? (2 points)\n"
   ]
  },
  {
   "cell_type": "code",
   "execution_count": 12,
   "id": "f3d29d02",
   "metadata": {
    "execution": {
     "iopub.execute_input": "2024-06-16T09:53:50.823033Z",
     "iopub.status.busy": "2024-06-16T09:53:50.822615Z",
     "iopub.status.idle": "2024-06-16T09:53:50.875946Z",
     "shell.execute_reply": "2024-06-16T09:53:50.874914Z"
    },
    "papermill": {
     "duration": 0.071873,
     "end_time": "2024-06-16T09:53:50.878370",
     "exception": false,
     "start_time": "2024-06-16T09:53:50.806497",
     "status": "completed"
    },
    "tags": []
   },
   "outputs": [],
   "source": [
    "images = adapteq_images.reshape(labels.shape[0], -1)"
   ]
  },
  {
   "cell_type": "code",
   "execution_count": 13,
   "id": "f30403a5",
   "metadata": {
    "execution": {
     "iopub.execute_input": "2024-06-16T09:53:50.912844Z",
     "iopub.status.busy": "2024-06-16T09:53:50.912421Z",
     "iopub.status.idle": "2024-06-16T09:53:56.467289Z",
     "shell.execute_reply": "2024-06-16T09:53:56.466003Z"
    },
    "papermill": {
     "duration": 5.575726,
     "end_time": "2024-06-16T09:53:56.470063",
     "exception": false,
     "start_time": "2024-06-16T09:53:50.894337",
     "status": "completed"
    },
    "tags": []
   },
   "outputs": [
    {
     "data": {
      "text/plain": [
       "(35887, 2)"
      ]
     },
     "execution_count": 13,
     "metadata": {},
     "output_type": "execute_result"
    }
   ],
   "source": [
    "pca_2_components = PCA(n_components=2)\n",
    "pca_images = pca_2_components.fit_transform(images)\n",
    "pca_images.shape"
   ]
  },
  {
   "cell_type": "code",
   "execution_count": 14,
   "id": "bcefd46a",
   "metadata": {
    "execution": {
     "iopub.execute_input": "2024-06-16T09:53:56.504031Z",
     "iopub.status.busy": "2024-06-16T09:53:56.503612Z",
     "iopub.status.idle": "2024-06-16T09:53:56.510913Z",
     "shell.execute_reply": "2024-06-16T09:53:56.509605Z"
    },
    "papermill": {
     "duration": 0.027567,
     "end_time": "2024-06-16T09:53:56.513709",
     "exception": false,
     "start_time": "2024-06-16T09:53:56.486142",
     "status": "completed"
    },
    "tags": []
   },
   "outputs": [],
   "source": [
    "def reconstructing_image(image: np.ndarray[float], pca: PCA) -> np.ndarray[int]:\n",
    "    if not isinstance(pca, PCA):\n",
    "        raise TypeError(\"pca must be an instance of sklearn.decomposition.PCA\")\n",
    "    reconstructed_images = pca.inverse_transform(image)\n",
    "    reconstructed_images = (reconstructed_images * 255).astype(np.uint8)\n",
    "    reconstructed_images = reconstructed_images.reshape(48, 48)\n",
    "    return reconstructed_images"
   ]
  },
  {
   "cell_type": "code",
   "execution_count": 15,
   "id": "67f3eabb",
   "metadata": {
    "execution": {
     "iopub.execute_input": "2024-06-16T09:53:56.545639Z",
     "iopub.status.busy": "2024-06-16T09:53:56.545178Z",
     "iopub.status.idle": "2024-06-16T09:53:56.557869Z",
     "shell.execute_reply": "2024-06-16T09:53:56.556433Z"
    },
    "papermill": {
     "duration": 0.032277,
     "end_time": "2024-06-16T09:53:56.561317",
     "exception": false,
     "start_time": "2024-06-16T09:53:56.529040",
     "status": "completed"
    },
    "tags": []
   },
   "outputs": [],
   "source": [
    "def plot_compare_pca_images(\n",
    "    raw: np.ndarray[int],\n",
    "    transformed: np.ndarray[float],\n",
    "    labels: np.ndarray,\n",
    "    pca: PCA,\n",
    "    n_images: int = 2,\n",
    ") -> None:\n",
    "    \n",
    "    _, axes = plt.subplots(nrows=2, ncols=n_images, figsize=(9, 9 * n_images))\n",
    "    for idx, label in enumerate(labels):\n",
    "        if idx >= n_images:\n",
    "            break\n",
    "        \n",
    "        idx_random = np.random.randint(0, len(labels))\n",
    "        \n",
    "        # Show raw images\n",
    "        axes[idx][0].imshow(raw[idx_random], cmap=\"gray\")\n",
    "        axes[idx][0].set_xticks([])\n",
    "        axes[idx][0].set_yticks([])\n",
    "        axes[idx][0].set_title(f\"Raw|Label:{label}\")\n",
    "\n",
    "        # Show transformed images\n",
    "        axes[idx][1].imshow(\n",
    "            reconstructing_image(transformed[idx_random], pca=pca), cmap=\"gray\"\n",
    "        )\n",
    "        axes[idx][1].set_xticks([])\n",
    "        axes[idx][1].set_yticks([])\n",
    "        axes[idx][1].set_title(f\"Transformed|Label:{label}\")\n",
    "    plt.tight_layout()\n",
    "    plt.show()"
   ]
  },
  {
   "cell_type": "code",
   "execution_count": 16,
   "id": "34cf1139",
   "metadata": {
    "execution": {
     "iopub.execute_input": "2024-06-16T09:53:56.594417Z",
     "iopub.status.busy": "2024-06-16T09:53:56.593925Z",
     "iopub.status.idle": "2024-06-16T09:53:57.168348Z",
     "shell.execute_reply": "2024-06-16T09:53:57.167076Z"
    },
    "papermill": {
     "duration": 0.594024,
     "end_time": "2024-06-16T09:53:57.171385",
     "exception": false,
     "start_time": "2024-06-16T09:53:56.577361",
     "status": "completed"
    },
    "tags": []
   },
   "outputs": [
    {
     "data": {
      "image/png": "[encoded data removed]",
      "text/plain": [
       "<Figure size 900x1800 with 4 Axes>"
      ]
     },
     "metadata": {},
     "output_type": "display_data"
    }
   ],
   "source": [
    "plot_compare_pca_images(raw_images, pca_images, labels, pca_2_components)"
   ]
  },
  {
   "cell_type": "markdown",
   "id": "f82062ee",
   "metadata": {
    "papermill": {
     "duration": 0.015407,
     "end_time": "2024-06-16T09:53:57.203055",
     "exception": false,
     "start_time": "2024-06-16T09:53:57.187648",
     "status": "completed"
    },
    "tags": []
   },
   "source": [
    "Question 2: How to determine the optimal number of principal components using `pca.explained_variance_`? Explain your selection process. (2 points)\n"
   ]
  },
  {
   "cell_type": "code",
   "execution_count": 17,
   "id": "631bac3e",
   "metadata": {
    "execution": {
     "iopub.execute_input": "2024-06-16T09:53:57.236091Z",
     "iopub.status.busy": "2024-06-16T09:53:57.235688Z",
     "iopub.status.idle": "2024-06-16T09:54:33.292123Z",
     "shell.execute_reply": "2024-06-16T09:54:33.290802Z"
    },
    "papermill": {
     "duration": 36.092278,
     "end_time": "2024-06-16T09:54:33.310901",
     "exception": false,
     "start_time": "2024-06-16T09:53:57.218623",
     "status": "completed"
    },
    "tags": []
   },
   "outputs": [
    {
     "data": {
      "text/html": [
       "<style>#sk-container-id-1 {color: black;background-color: white;}#sk-container-id-1 pre{padding: 0;}#sk-container-id-1 div.sk-toggleable {background-color: white;}#sk-container-id-1 label.sk-toggleable__label {cursor: pointer;display: block;width: 100%;margin-bottom: 0;padding: 0.3em;box-sizing: border-box;text-align: center;}#sk-container-id-1 label.sk-toggleable__label-arrow:before {content: \"▸\";float: left;margin-right: 0.25em;color: #696969;}#sk-container-id-1 label.sk-toggleable__label-arrow:hover:before {color: black;}#sk-container-id-1 div.sk-estimator:hover label.sk-toggleable__label-arrow:before {color: black;}#sk-container-id-1 div.sk-toggleable__content {max-height: 0;max-width: 0;overflow: hidden;text-align: left;background-color: #f0f8ff;}#sk-container-id-1 div.sk-toggleable__content pre {margin: 0.2em;color: black;border-radius: 0.25em;background-color: #f0f8ff;}#sk-container-id-1 input.sk-toggleable__control:checked~div.sk-toggleable__content {max-height: 200px;max-width: 100%;overflow: auto;}#sk-container-id-1 input.sk-toggleable__control:checked~label.sk-toggleable__label-arrow:before {content: \"▾\";}#sk-container-id-1 div.sk-estimator input.sk-toggleable__control:checked~label.sk-toggleable__label {background-color: #d4ebff;}#sk-container-id-1 div.sk-label input.sk-toggleable__control:checked~label.sk-toggleable__label {background-color: #d4ebff;}#sk-container-id-1 input.sk-hidden--visually {border: 0;clip: rect(1px 1px 1px 1px);clip: rect(1px, 1px, 1px, 1px);height: 1px;margin: -1px;overflow: hidden;padding: 0;position: absolute;width: 1px;}#sk-container-id-1 div.sk-estimator {font-family: monospace;background-color: #f0f8ff;border: 1px dotted black;border-radius: 0.25em;box-sizing: border-box;margin-bottom: 0.5em;}#sk-container-id-1 div.sk-estimator:hover {background-color: #d4ebff;}#sk-container-id-1 div.sk-parallel-item::after {content: \"\";width: 100%;border-bottom: 1px solid gray;flex-grow: 1;}#sk-container-id-1 div.sk-label:hover label.sk-toggleable__label {background-color: #d4ebff;}#sk-container-id-1 div.sk-serial::before {content: \"\";position: absolute;border-left: 1px solid gray;box-sizing: border-box;top: 0;bottom: 0;left: 50%;z-index: 0;}#sk-container-id-1 div.sk-serial {display: flex;flex-direction: column;align-items: center;background-color: white;padding-right: 0.2em;padding-left: 0.2em;position: relative;}#sk-container-id-1 div.sk-item {position: relative;z-index: 1;}#sk-container-id-1 div.sk-parallel {display: flex;align-items: stretch;justify-content: center;background-color: white;position: relative;}#sk-container-id-1 div.sk-item::before, #sk-container-id-1 div.sk-parallel-item::before {content: \"\";position: absolute;border-left: 1px solid gray;box-sizing: border-box;top: 0;bottom: 0;left: 50%;z-index: -1;}#sk-container-id-1 div.sk-parallel-item {display: flex;flex-direction: column;z-index: 1;position: relative;background-color: white;}#sk-container-id-1 div.sk-parallel-item:first-child::after {align-self: flex-end;width: 50%;}#sk-container-id-1 div.sk-parallel-item:last-child::after {align-self: flex-start;width: 50%;}#sk-container-id-1 div.sk-parallel-item:only-child::after {width: 0;}#sk-container-id-1 div.sk-dashed-wrapped {border: 1px dashed gray;margin: 0 0.4em 0.5em 0.4em;box-sizing: border-box;padding-bottom: 0.4em;background-color: white;}#sk-container-id-1 div.sk-label label {font-family: monospace;font-weight: bold;display: inline-block;line-height: 1.2em;}#sk-container-id-1 div.sk-label-container {text-align: center;}#sk-container-id-1 div.sk-container {/* jupyter's `normalize.less` sets `[hidden] { display: none; }` but bootstrap.min.css set `[hidden] { display: none !important; }` so we also need the `!important` here to be able to override the default hidden behavior on the sphinx rendered scikit-learn.org. See: https://github.com/scikit-learn/scikit-learn/issues/21755 */display: inline-block !important;position: relative;}#sk-container-id-1 div.sk-text-repr-fallback {display: none;}</style><div id=\"sk-container-id-1\" class=\"sk-top-container\"><div class=\"sk-text-repr-fallback\"><pre>PCA()</pre><b>In a Jupyter environment, please rerun this cell to show the HTML representation or trust the notebook. <br />On GitHub, the HTML representation is unable to render, please try loading this page with nbviewer.org.</b></div><div class=\"sk-container\" hidden><div class=\"sk-item\"><div class=\"sk-estimator sk-toggleable\"><input class=\"sk-toggleable__control sk-hidden--visually\" id=\"sk-estimator-id-1\" type=\"checkbox\" checked><label for=\"sk-estimator-id-1\" class=\"sk-toggleable__label sk-toggleable__label-arrow\">PCA</label><div class=\"sk-toggleable__content\"><pre>PCA()</pre></div></div></div></div></div>"
      ],
      "text/plain": [
       "PCA()"
      ]
     },
     "execution_count": 17,
     "metadata": {},
     "output_type": "execute_result"
    }
   ],
   "source": [
    "pca_full = PCA()\n",
    "pca_full.fit(images)"
   ]
  },
  {
   "cell_type": "code",
   "execution_count": 18,
   "id": "8ddce380",
   "metadata": {
    "execution": {
     "iopub.execute_input": "2024-06-16T09:54:33.346282Z",
     "iopub.status.busy": "2024-06-16T09:54:33.345833Z",
     "iopub.status.idle": "2024-06-16T09:54:33.351616Z",
     "shell.execute_reply": "2024-06-16T09:54:33.350347Z"
    },
    "papermill": {
     "duration": 0.027154,
     "end_time": "2024-06-16T09:54:33.354290",
     "exception": false,
     "start_time": "2024-06-16T09:54:33.327136",
     "status": "completed"
    },
    "tags": []
   },
   "outputs": [],
   "source": [
    "## determine the optimal number of PCs here\n",
    "explained_variance_ratio = pca_full.explained_variance_ratio_\n",
    "cumulative_explained_variance = np.cumsum(explained_variance_ratio)"
   ]
  },
  {
   "cell_type": "code",
   "execution_count": 19,
   "id": "45b54a80",
   "metadata": {
    "execution": {
     "iopub.execute_input": "2024-06-16T09:54:33.389363Z",
     "iopub.status.busy": "2024-06-16T09:54:33.388947Z",
     "iopub.status.idle": "2024-06-16T09:54:33.728653Z",
     "shell.execute_reply": "2024-06-16T09:54:33.727348Z"
    },
    "papermill": {
     "duration": 0.360383,
     "end_time": "2024-06-16T09:54:33.731542",
     "exception": false,
     "start_time": "2024-06-16T09:54:33.371159",
     "status": "completed"
    },
    "tags": []
   },
   "outputs": [
    {
     "data": {
      "image/png": "[encoded data removed]",
      "text/plain": [
       "<Figure size 1000x600 with 1 Axes>"
      ]
     },
     "metadata": {},
     "output_type": "display_data"
    }
   ],
   "source": [
    "plt.figure(figsize=(10, 6))\n",
    "plt.plot(\n",
    "    range(1, len(cumulative_explained_variance) + 1),\n",
    "    cumulative_explained_variance,\n",
    "    marker=\"o\",\n",
    "    linestyle=\"--\",\n",
    ")\n",
    "plt.xlabel(\"Number of Principal Components\")\n",
    "plt.ylabel(\"Cumulative Explained Variance\")\n",
    "plt.title(\"Cumulative Explained Variance by Number of Principal Components\")\n",
    "plt.grid(True)\n",
    "plt.show()"
   ]
  },
  {
   "cell_type": "markdown",
   "id": "62a7a195",
   "metadata": {
    "papermill": {
     "duration": 0.016835,
     "end_time": "2024-06-16T09:54:33.767216",
     "exception": false,
     "start_time": "2024-06-16T09:54:33.750381",
     "status": "completed"
    },
    "tags": []
   },
   "source": [
    "## 3. Image Classification\n"
   ]
  },
  {
   "cell_type": "markdown",
   "id": "89017481",
   "metadata": {
    "papermill": {
     "duration": 0.016692,
     "end_time": "2024-06-16T09:54:33.801002",
     "exception": false,
     "start_time": "2024-06-16T09:54:33.784310",
     "status": "completed"
    },
    "tags": []
   },
   "source": [
    "The classification task will compare the performance using both:\n",
    "\n",
    "- Original data: The data before applying PCA.\n",
    "- Transformed data: The data projected onto the optimal number of principal components identified earlier. Utilize the **optimal number of principal components** identified in the previous question.\n",
    "\n",
    "Compare the performance of **4** different classification algorithms (3 machine learning and 1 MLP models) in both formats above. (4 points)\n",
    "\n",
    "Perform hyperparameter tuning using `GridSearchCV` for each classification method. (1 point)\n",
    "\n",
    "Inspiration: Draw inspiration from the example provided in the scikit-learn documentation: https://scikit-learn.org/dev/auto_examples/datasets/plot_iris_dataset.html\n"
   ]
  },
  {
   "cell_type": "code",
   "execution_count": 20,
   "id": "7598d3c8",
   "metadata": {
    "execution": {
     "iopub.execute_input": "2024-06-16T09:54:33.838626Z",
     "iopub.status.busy": "2024-06-16T09:54:33.837286Z",
     "iopub.status.idle": "2024-06-16T09:55:09.487642Z",
     "shell.execute_reply": "2024-06-16T09:55:09.486380Z"
    },
    "papermill": {
     "duration": 35.672431,
     "end_time": "2024-06-16T09:55:09.490735",
     "exception": false,
     "start_time": "2024-06-16T09:54:33.818304",
     "status": "completed"
    },
    "tags": []
   },
   "outputs": [],
   "source": [
    "original_data = adapteq_images.reshape(labels.shape[0], -1)\n",
    "transformed_data = PCA(n_components=0.99).fit_transform(images)"
   ]
  },
  {
   "cell_type": "code",
   "execution_count": 21,
   "id": "ff0c4168",
   "metadata": {
    "execution": {
     "iopub.execute_input": "2024-06-16T09:55:09.527783Z",
     "iopub.status.busy": "2024-06-16T09:55:09.527329Z",
     "iopub.status.idle": "2024-06-16T09:55:09.533024Z",
     "shell.execute_reply": "2024-06-16T09:55:09.531813Z"
    },
    "papermill": {
     "duration": 0.027036,
     "end_time": "2024-06-16T09:55:09.535743",
     "exception": false,
     "start_time": "2024-06-16T09:55:09.508707",
     "status": "completed"
    },
    "tags": []
   },
   "outputs": [],
   "source": [
    "clf = LazyClassifier(verbose=0, custom_metric=None)"
   ]
  },
  {
   "cell_type": "code",
   "execution_count": 22,
   "id": "163ba2db",
   "metadata": {
    "execution": {
     "iopub.execute_input": "2024-06-16T09:55:09.573306Z",
     "iopub.status.busy": "2024-06-16T09:55:09.572875Z",
     "iopub.status.idle": "2024-06-16T14:17:38.738555Z",
     "shell.execute_reply": "2024-06-16T14:17:38.736492Z"
    },
    "papermill": {
     "duration": 15749.187927,
     "end_time": "2024-06-16T14:17:38.741517",
     "exception": false,
     "start_time": "2024-06-16T09:55:09.553590",
     "status": "completed"
    },
    "tags": []
   },
   "outputs": [
    {
     "name": "stderr",
     "output_type": "stream",
     "text": [
      " 97%|█████████▋| 28/29 [4:08:06<13:36, 816.07s/it]"
     ]
    },
    {
     "name": "stdout",
     "output_type": "stream",
     "text": [
      "[LightGBM] [Info] Auto-choosing col-wise multi-threading, the overhead of testing was 2.377597 seconds.\n",
      "You can set `force_col_wise=true` to remove the overhead.\n",
      "[LightGBM] [Info] Total Bins 571650\n",
      "[LightGBM] [Info] Number of data points in the train set: 28709, number of used features: 2304\n",
      "[LightGBM] [Info] Start training from score -1.974673\n",
      "[LightGBM] [Info] Start training from score -4.153499\n",
      "[LightGBM] [Info] Start training from score -1.946956\n",
      "[LightGBM] [Info] Start training from score -1.388142\n",
      "[LightGBM] [Info] Start training from score -1.777202\n",
      "[LightGBM] [Info] Start training from score -2.197817\n",
      "[LightGBM] [Info] Start training from score -1.753992\n"
     ]
    },
    {
     "name": "stderr",
     "output_type": "stream",
     "text": [
      "100%|██████████| 29/29 [4:22:28<00:00, 543.04s/it]\n"
     ]
    },
    {
     "data": {
      "text/html": [
       "<div>\n",
       "<style scoped>\n",
       "    .dataframe tbody tr th:only-of-type {\n",
       "        vertical-align: middle;\n",
       "    }\n",
       "\n",
       "    .dataframe tbody tr th {\n",
       "        vertical-align: top;\n",
       "    }\n",
       "\n",
       "    .dataframe thead th {\n",
       "        text-align: right;\n",
       "    }\n",
       "</style>\n",
       "<table border=\"1\" class=\"dataframe\">\n",
       "  <thead>\n",
       "    <tr style=\"text-align: right;\">\n",
       "      <th></th>\n",
       "      <th>Accuracy</th>\n",
       "      <th>Balanced Accuracy</th>\n",
       "      <th>ROC AUC</th>\n",
       "      <th>F1 Score</th>\n",
       "      <th>Time Taken</th>\n",
       "    </tr>\n",
       "    <tr>\n",
       "      <th>Model</th>\n",
       "      <th></th>\n",
       "      <th></th>\n",
       "      <th></th>\n",
       "      <th></th>\n",
       "      <th></th>\n",
       "    </tr>\n",
       "  </thead>\n",
       "  <tbody>\n",
       "    <tr>\n",
       "      <th>SVC</th>\n",
       "      <td>0.48</td>\n",
       "      <td>0.41</td>\n",
       "      <td>None</td>\n",
       "      <td>0.46</td>\n",
       "      <td>2829.20</td>\n",
       "    </tr>\n",
       "    <tr>\n",
       "      <th>XGBClassifier</th>\n",
       "      <td>0.46</td>\n",
       "      <td>0.40</td>\n",
       "      <td>None</td>\n",
       "      <td>0.45</td>\n",
       "      <td>1292.26</td>\n",
       "    </tr>\n",
       "    <tr>\n",
       "      <th>LGBMClassifier</th>\n",
       "      <td>0.46</td>\n",
       "      <td>0.40</td>\n",
       "      <td>None</td>\n",
       "      <td>0.44</td>\n",
       "      <td>861.80</td>\n",
       "    </tr>\n",
       "    <tr>\n",
       "      <th>KNeighborsClassifier</th>\n",
       "      <td>0.38</td>\n",
       "      <td>0.37</td>\n",
       "      <td>None</td>\n",
       "      <td>0.38</td>\n",
       "      <td>36.79</td>\n",
       "    </tr>\n",
       "    <tr>\n",
       "      <th>ExtraTreesClassifier</th>\n",
       "      <td>0.43</td>\n",
       "      <td>0.36</td>\n",
       "      <td>None</td>\n",
       "      <td>0.40</td>\n",
       "      <td>57.70</td>\n",
       "    </tr>\n",
       "    <tr>\n",
       "      <th>RandomForestClassifier</th>\n",
       "      <td>0.42</td>\n",
       "      <td>0.35</td>\n",
       "      <td>None</td>\n",
       "      <td>0.39</td>\n",
       "      <td>157.22</td>\n",
       "    </tr>\n",
       "    <tr>\n",
       "      <th>BaggingClassifier</th>\n",
       "      <td>0.36</td>\n",
       "      <td>0.33</td>\n",
       "      <td>None</td>\n",
       "      <td>0.35</td>\n",
       "      <td>699.03</td>\n",
       "    </tr>\n",
       "    <tr>\n",
       "      <th>LogisticRegression</th>\n",
       "      <td>0.35</td>\n",
       "      <td>0.31</td>\n",
       "      <td>None</td>\n",
       "      <td>0.34</td>\n",
       "      <td>49.89</td>\n",
       "    </tr>\n",
       "    <tr>\n",
       "      <th>LinearDiscriminantAnalysis</th>\n",
       "      <td>0.34</td>\n",
       "      <td>0.31</td>\n",
       "      <td>None</td>\n",
       "      <td>0.34</td>\n",
       "      <td>34.98</td>\n",
       "    </tr>\n",
       "    <tr>\n",
       "      <th>DecisionTreeClassifier</th>\n",
       "      <td>0.29</td>\n",
       "      <td>0.28</td>\n",
       "      <td>None</td>\n",
       "      <td>0.29</td>\n",
       "      <td>114.76</td>\n",
       "    </tr>\n",
       "    <tr>\n",
       "      <th>ExtraTreeClassifier</th>\n",
       "      <td>0.28</td>\n",
       "      <td>0.28</td>\n",
       "      <td>None</td>\n",
       "      <td>0.28</td>\n",
       "      <td>4.14</td>\n",
       "    </tr>\n",
       "    <tr>\n",
       "      <th>RidgeClassifier</th>\n",
       "      <td>0.35</td>\n",
       "      <td>0.28</td>\n",
       "      <td>None</td>\n",
       "      <td>0.33</td>\n",
       "      <td>11.44</td>\n",
       "    </tr>\n",
       "    <tr>\n",
       "      <th>RidgeClassifierCV</th>\n",
       "      <td>0.35</td>\n",
       "      <td>0.28</td>\n",
       "      <td>None</td>\n",
       "      <td>0.33</td>\n",
       "      <td>36.46</td>\n",
       "    </tr>\n",
       "    <tr>\n",
       "      <th>GaussianNB</th>\n",
       "      <td>0.25</td>\n",
       "      <td>0.27</td>\n",
       "      <td>None</td>\n",
       "      <td>0.24</td>\n",
       "      <td>5.59</td>\n",
       "    </tr>\n",
       "    <tr>\n",
       "      <th>LinearSVC</th>\n",
       "      <td>0.28</td>\n",
       "      <td>0.26</td>\n",
       "      <td>None</td>\n",
       "      <td>0.28</td>\n",
       "      <td>1714.28</td>\n",
       "    </tr>\n",
       "    <tr>\n",
       "      <th>PassiveAggressiveClassifier</th>\n",
       "      <td>0.30</td>\n",
       "      <td>0.26</td>\n",
       "      <td>None</td>\n",
       "      <td>0.30</td>\n",
       "      <td>37.86</td>\n",
       "    </tr>\n",
       "    <tr>\n",
       "      <th>BernoulliNB</th>\n",
       "      <td>0.24</td>\n",
       "      <td>0.26</td>\n",
       "      <td>None</td>\n",
       "      <td>0.23</td>\n",
       "      <td>4.69</td>\n",
       "    </tr>\n",
       "    <tr>\n",
       "      <th>SGDClassifier</th>\n",
       "      <td>0.30</td>\n",
       "      <td>0.26</td>\n",
       "      <td>None</td>\n",
       "      <td>0.29</td>\n",
       "      <td>345.69</td>\n",
       "    </tr>\n",
       "    <tr>\n",
       "      <th>QuadraticDiscriminantAnalysis</th>\n",
       "      <td>0.34</td>\n",
       "      <td>0.26</td>\n",
       "      <td>None</td>\n",
       "      <td>0.25</td>\n",
       "      <td>166.71</td>\n",
       "    </tr>\n",
       "    <tr>\n",
       "      <th>NearestCentroid</th>\n",
       "      <td>0.24</td>\n",
       "      <td>0.26</td>\n",
       "      <td>None</td>\n",
       "      <td>0.23</td>\n",
       "      <td>3.51</td>\n",
       "    </tr>\n",
       "    <tr>\n",
       "      <th>Perceptron</th>\n",
       "      <td>0.28</td>\n",
       "      <td>0.25</td>\n",
       "      <td>None</td>\n",
       "      <td>0.28</td>\n",
       "      <td>17.12</td>\n",
       "    </tr>\n",
       "    <tr>\n",
       "      <th>LabelSpreading</th>\n",
       "      <td>0.21</td>\n",
       "      <td>0.24</td>\n",
       "      <td>None</td>\n",
       "      <td>0.16</td>\n",
       "      <td>147.95</td>\n",
       "    </tr>\n",
       "    <tr>\n",
       "      <th>LabelPropagation</th>\n",
       "      <td>0.21</td>\n",
       "      <td>0.24</td>\n",
       "      <td>None</td>\n",
       "      <td>0.16</td>\n",
       "      <td>122.87</td>\n",
       "    </tr>\n",
       "    <tr>\n",
       "      <th>AdaBoostClassifier</th>\n",
       "      <td>0.31</td>\n",
       "      <td>0.24</td>\n",
       "      <td>None</td>\n",
       "      <td>0.26</td>\n",
       "      <td>321.14</td>\n",
       "    </tr>\n",
       "    <tr>\n",
       "      <th>CalibratedClassifierCV</th>\n",
       "      <td>0.31</td>\n",
       "      <td>0.21</td>\n",
       "      <td>None</td>\n",
       "      <td>0.22</td>\n",
       "      <td>6663.43</td>\n",
       "    </tr>\n",
       "    <tr>\n",
       "      <th>DummyClassifier</th>\n",
       "      <td>0.25</td>\n",
       "      <td>0.14</td>\n",
       "      <td>None</td>\n",
       "      <td>0.10</td>\n",
       "      <td>3.44</td>\n",
       "    </tr>\n",
       "  </tbody>\n",
       "</table>\n",
       "</div>"
      ],
      "text/plain": [
       "                               Accuracy  Balanced Accuracy ROC AUC  F1 Score  \\\n",
       "Model                                                                          \n",
       "SVC                                0.48               0.41    None      0.46   \n",
       "XGBClassifier                      0.46               0.40    None      0.45   \n",
       "LGBMClassifier                     0.46               0.40    None      0.44   \n",
       "KNeighborsClassifier               0.38               0.37    None      0.38   \n",
       "ExtraTreesClassifier               0.43               0.36    None      0.40   \n",
       "RandomForestClassifier             0.42               0.35    None      0.39   \n",
       "BaggingClassifier                  0.36               0.33    None      0.35   \n",
       "LogisticRegression                 0.35               0.31    None      0.34   \n",
       "LinearDiscriminantAnalysis         0.34               0.31    None      0.34   \n",
       "DecisionTreeClassifier             0.29               0.28    None      0.29   \n",
       "ExtraTreeClassifier                0.28               0.28    None      0.28   \n",
       "RidgeClassifier                    0.35               0.28    None      0.33   \n",
       "RidgeClassifierCV                  0.35               0.28    None      0.33   \n",
       "GaussianNB                         0.25               0.27    None      0.24   \n",
       "LinearSVC                          0.28               0.26    None      0.28   \n",
       "PassiveAggressiveClassifier        0.30               0.26    None      0.30   \n",
       "BernoulliNB                        0.24               0.26    None      0.23   \n",
       "SGDClassifier                      0.30               0.26    None      0.29   \n",
       "QuadraticDiscriminantAnalysis      0.34               0.26    None      0.25   \n",
       "NearestCentroid                    0.24               0.26    None      0.23   \n",
       "Perceptron                         0.28               0.25    None      0.28   \n",
       "LabelSpreading                     0.21               0.24    None      0.16   \n",
       "LabelPropagation                   0.21               0.24    None      0.16   \n",
       "AdaBoostClassifier                 0.31               0.24    None      0.26   \n",
       "CalibratedClassifierCV             0.31               0.21    None      0.22   \n",
       "DummyClassifier                    0.25               0.14    None      0.10   \n",
       "\n",
       "                               Time Taken  \n",
       "Model                                      \n",
       "SVC                               2829.20  \n",
       "XGBClassifier                     1292.26  \n",
       "LGBMClassifier                     861.80  \n",
       "KNeighborsClassifier                36.79  \n",
       "ExtraTreesClassifier                57.70  \n",
       "RandomForestClassifier             157.22  \n",
       "BaggingClassifier                  699.03  \n",
       "LogisticRegression                  49.89  \n",
       "LinearDiscriminantAnalysis          34.98  \n",
       "DecisionTreeClassifier             114.76  \n",
       "ExtraTreeClassifier                  4.14  \n",
       "RidgeClassifier                     11.44  \n",
       "RidgeClassifierCV                   36.46  \n",
       "GaussianNB                           5.59  \n",
       "LinearSVC                         1714.28  \n",
       "PassiveAggressiveClassifier         37.86  \n",
       "BernoulliNB                          4.69  \n",
       "SGDClassifier                      345.69  \n",
       "QuadraticDiscriminantAnalysis      166.71  \n",
       "NearestCentroid                      3.51  \n",
       "Perceptron                          17.12  \n",
       "LabelSpreading                     147.95  \n",
       "LabelPropagation                   122.87  \n",
       "AdaBoostClassifier                 321.14  \n",
       "CalibratedClassifierCV            6663.43  \n",
       "DummyClassifier                      3.44  "
      ]
     },
     "metadata": {},
     "output_type": "display_data"
    }
   ],
   "source": [
    "## splitting data into train/val/test subsets here\n",
    "origin_X_train, origin_X_test, origin_y_train, origin_y_test = train_test_split(original_data, labels, test_size=0.2)\n",
    "\n",
    "origin_scores, origin_predictions = clf.fit(origin_X_train, origin_X_test, origin_y_train, origin_y_test)\n",
    "display(origin_scores)"
   ]
  },
  {
   "cell_type": "code",
   "execution_count": 23,
   "id": "11892fd9",
   "metadata": {
    "execution": {
     "iopub.execute_input": "2024-06-16T14:17:38.788068Z",
     "iopub.status.busy": "2024-06-16T14:17:38.787599Z",
     "iopub.status.idle": "2024-06-16T17:47:04.288890Z",
     "shell.execute_reply": "2024-06-16T17:47:04.284905Z"
    },
    "papermill": {
     "duration": 12565.529361,
     "end_time": "2024-06-16T17:47:04.292441",
     "exception": false,
     "start_time": "2024-06-16T14:17:38.763080",
     "status": "completed"
    },
    "tags": []
   },
   "outputs": [
    {
     "name": "stdout",
     "output_type": "stream",
     "text": [
      "'tuple' object has no attribute '__name__'\n",
      "Invalid Classifier(s)\n"
     ]
    },
    {
     "name": "stderr",
     "output_type": "stream",
     "text": [
      " 97%|█████████▋| 28/29 [3:19:22<11:41, 701.04s/it]"
     ]
    },
    {
     "name": "stdout",
     "output_type": "stream",
     "text": [
      "[LightGBM] [Info] Auto-choosing col-wise multi-threading, the overhead of testing was 1.732356 seconds.\n",
      "You can set `force_col_wise=true` to remove the overhead.\n",
      "[LightGBM] [Info] Total Bins 400860\n",
      "[LightGBM] [Info] Number of data points in the train set: 28709, number of used features: 1572\n",
      "[LightGBM] [Info] Start training from score -1.977689\n",
      "[LightGBM] [Info] Start training from score -4.182747\n",
      "[LightGBM] [Info] Start training from score -1.961709\n",
      "[LightGBM] [Info] Start training from score -1.380494\n",
      "[LightGBM] [Info] Start training from score -1.773091\n",
      "[LightGBM] [Info] Start training from score -2.198758\n",
      "[LightGBM] [Info] Start training from score -1.751379\n"
     ]
    },
    {
     "name": "stderr",
     "output_type": "stream",
     "text": [
      "100%|██████████| 29/29 [3:29:23<00:00, 433.22s/it]\n"
     ]
    },
    {
     "data": {
      "text/html": [
       "<div>\n",
       "<style scoped>\n",
       "    .dataframe tbody tr th:only-of-type {\n",
       "        vertical-align: middle;\n",
       "    }\n",
       "\n",
       "    .dataframe tbody tr th {\n",
       "        vertical-align: top;\n",
       "    }\n",
       "\n",
       "    .dataframe thead th {\n",
       "        text-align: right;\n",
       "    }\n",
       "</style>\n",
       "<table border=\"1\" class=\"dataframe\">\n",
       "  <thead>\n",
       "    <tr style=\"text-align: right;\">\n",
       "      <th></th>\n",
       "      <th>Accuracy</th>\n",
       "      <th>Balanced Accuracy</th>\n",
       "      <th>ROC AUC</th>\n",
       "      <th>F1 Score</th>\n",
       "      <th>Time Taken</th>\n",
       "    </tr>\n",
       "    <tr>\n",
       "      <th>Model</th>\n",
       "      <th></th>\n",
       "      <th></th>\n",
       "      <th></th>\n",
       "      <th></th>\n",
       "      <th></th>\n",
       "    </tr>\n",
       "  </thead>\n",
       "  <tbody>\n",
       "    <tr>\n",
       "      <th>LGBMClassifier</th>\n",
       "      <td>0.41</td>\n",
       "      <td>0.37</td>\n",
       "      <td>None</td>\n",
       "      <td>0.39</td>\n",
       "      <td>600.40</td>\n",
       "    </tr>\n",
       "    <tr>\n",
       "      <th>XGBClassifier</th>\n",
       "      <td>0.40</td>\n",
       "      <td>0.36</td>\n",
       "      <td>None</td>\n",
       "      <td>0.38</td>\n",
       "      <td>981.47</td>\n",
       "    </tr>\n",
       "    <tr>\n",
       "      <th>SVC</th>\n",
       "      <td>0.39</td>\n",
       "      <td>0.32</td>\n",
       "      <td>None</td>\n",
       "      <td>0.36</td>\n",
       "      <td>2655.64</td>\n",
       "    </tr>\n",
       "    <tr>\n",
       "      <th>LogisticRegression</th>\n",
       "      <td>0.35</td>\n",
       "      <td>0.32</td>\n",
       "      <td>None</td>\n",
       "      <td>0.34</td>\n",
       "      <td>40.61</td>\n",
       "    </tr>\n",
       "    <tr>\n",
       "      <th>NearestCentroid</th>\n",
       "      <td>0.32</td>\n",
       "      <td>0.32</td>\n",
       "      <td>None</td>\n",
       "      <td>0.33</td>\n",
       "      <td>2.62</td>\n",
       "    </tr>\n",
       "    <tr>\n",
       "      <th>LinearDiscriminantAnalysis</th>\n",
       "      <td>0.35</td>\n",
       "      <td>0.31</td>\n",
       "      <td>None</td>\n",
       "      <td>0.34</td>\n",
       "      <td>18.14</td>\n",
       "    </tr>\n",
       "    <tr>\n",
       "      <th>BaggingClassifier</th>\n",
       "      <td>0.31</td>\n",
       "      <td>0.29</td>\n",
       "      <td>None</td>\n",
       "      <td>0.30</td>\n",
       "      <td>652.21</td>\n",
       "    </tr>\n",
       "    <tr>\n",
       "      <th>QuadraticDiscriminantAnalysis</th>\n",
       "      <td>0.36</td>\n",
       "      <td>0.29</td>\n",
       "      <td>None</td>\n",
       "      <td>0.31</td>\n",
       "      <td>69.51</td>\n",
       "    </tr>\n",
       "    <tr>\n",
       "      <th>RidgeClassifierCV</th>\n",
       "      <td>0.35</td>\n",
       "      <td>0.28</td>\n",
       "      <td>None</td>\n",
       "      <td>0.33</td>\n",
       "      <td>20.17</td>\n",
       "    </tr>\n",
       "    <tr>\n",
       "      <th>RidgeClassifier</th>\n",
       "      <td>0.35</td>\n",
       "      <td>0.28</td>\n",
       "      <td>None</td>\n",
       "      <td>0.33</td>\n",
       "      <td>6.97</td>\n",
       "    </tr>\n",
       "    <tr>\n",
       "      <th>RandomForestClassifier</th>\n",
       "      <td>0.33</td>\n",
       "      <td>0.28</td>\n",
       "      <td>None</td>\n",
       "      <td>0.29</td>\n",
       "      <td>191.67</td>\n",
       "    </tr>\n",
       "    <tr>\n",
       "      <th>ExtraTreesClassifier</th>\n",
       "      <td>0.32</td>\n",
       "      <td>0.27</td>\n",
       "      <td>None</td>\n",
       "      <td>0.28</td>\n",
       "      <td>51.92</td>\n",
       "    </tr>\n",
       "    <tr>\n",
       "      <th>BernoulliNB</th>\n",
       "      <td>0.31</td>\n",
       "      <td>0.27</td>\n",
       "      <td>None</td>\n",
       "      <td>0.30</td>\n",
       "      <td>3.64</td>\n",
       "    </tr>\n",
       "    <tr>\n",
       "      <th>DecisionTreeClassifier</th>\n",
       "      <td>0.27</td>\n",
       "      <td>0.27</td>\n",
       "      <td>None</td>\n",
       "      <td>0.27</td>\n",
       "      <td>104.93</td>\n",
       "    </tr>\n",
       "    <tr>\n",
       "      <th>LinearSVC</th>\n",
       "      <td>0.28</td>\n",
       "      <td>0.26</td>\n",
       "      <td>None</td>\n",
       "      <td>0.28</td>\n",
       "      <td>1277.45</td>\n",
       "    </tr>\n",
       "    <tr>\n",
       "      <th>SGDClassifier</th>\n",
       "      <td>0.30</td>\n",
       "      <td>0.26</td>\n",
       "      <td>None</td>\n",
       "      <td>0.29</td>\n",
       "      <td>254.07</td>\n",
       "    </tr>\n",
       "    <tr>\n",
       "      <th>ExtraTreeClassifier</th>\n",
       "      <td>0.25</td>\n",
       "      <td>0.25</td>\n",
       "      <td>None</td>\n",
       "      <td>0.25</td>\n",
       "      <td>2.69</td>\n",
       "    </tr>\n",
       "    <tr>\n",
       "      <th>PassiveAggressiveClassifier</th>\n",
       "      <td>0.27</td>\n",
       "      <td>0.25</td>\n",
       "      <td>None</td>\n",
       "      <td>0.27</td>\n",
       "      <td>18.52</td>\n",
       "    </tr>\n",
       "    <tr>\n",
       "      <th>LabelSpreading</th>\n",
       "      <td>0.20</td>\n",
       "      <td>0.25</td>\n",
       "      <td>None</td>\n",
       "      <td>0.15</td>\n",
       "      <td>125.11</td>\n",
       "    </tr>\n",
       "    <tr>\n",
       "      <th>LabelPropagation</th>\n",
       "      <td>0.20</td>\n",
       "      <td>0.25</td>\n",
       "      <td>None</td>\n",
       "      <td>0.15</td>\n",
       "      <td>96.37</td>\n",
       "    </tr>\n",
       "    <tr>\n",
       "      <th>Perceptron</th>\n",
       "      <td>0.28</td>\n",
       "      <td>0.25</td>\n",
       "      <td>None</td>\n",
       "      <td>0.28</td>\n",
       "      <td>10.41</td>\n",
       "    </tr>\n",
       "    <tr>\n",
       "      <th>GaussianNB</th>\n",
       "      <td>0.20</td>\n",
       "      <td>0.23</td>\n",
       "      <td>None</td>\n",
       "      <td>0.20</td>\n",
       "      <td>3.39</td>\n",
       "    </tr>\n",
       "    <tr>\n",
       "      <th>CalibratedClassifierCV</th>\n",
       "      <td>0.31</td>\n",
       "      <td>0.22</td>\n",
       "      <td>None</td>\n",
       "      <td>0.22</td>\n",
       "      <td>4855.88</td>\n",
       "    </tr>\n",
       "    <tr>\n",
       "      <th>AdaBoostClassifier</th>\n",
       "      <td>0.29</td>\n",
       "      <td>0.21</td>\n",
       "      <td>None</td>\n",
       "      <td>0.24</td>\n",
       "      <td>486.27</td>\n",
       "    </tr>\n",
       "    <tr>\n",
       "      <th>KNeighborsClassifier</th>\n",
       "      <td>0.16</td>\n",
       "      <td>0.17</td>\n",
       "      <td>None</td>\n",
       "      <td>0.08</td>\n",
       "      <td>25.86</td>\n",
       "    </tr>\n",
       "    <tr>\n",
       "      <th>DummyClassifier</th>\n",
       "      <td>0.25</td>\n",
       "      <td>0.14</td>\n",
       "      <td>None</td>\n",
       "      <td>0.10</td>\n",
       "      <td>2.18</td>\n",
       "    </tr>\n",
       "  </tbody>\n",
       "</table>\n",
       "</div>"
      ],
      "text/plain": [
       "                               Accuracy  Balanced Accuracy ROC AUC  F1 Score  \\\n",
       "Model                                                                          \n",
       "LGBMClassifier                     0.41               0.37    None      0.39   \n",
       "XGBClassifier                      0.40               0.36    None      0.38   \n",
       "SVC                                0.39               0.32    None      0.36   \n",
       "LogisticRegression                 0.35               0.32    None      0.34   \n",
       "NearestCentroid                    0.32               0.32    None      0.33   \n",
       "LinearDiscriminantAnalysis         0.35               0.31    None      0.34   \n",
       "BaggingClassifier                  0.31               0.29    None      0.30   \n",
       "QuadraticDiscriminantAnalysis      0.36               0.29    None      0.31   \n",
       "RidgeClassifierCV                  0.35               0.28    None      0.33   \n",
       "RidgeClassifier                    0.35               0.28    None      0.33   \n",
       "RandomForestClassifier             0.33               0.28    None      0.29   \n",
       "ExtraTreesClassifier               0.32               0.27    None      0.28   \n",
       "BernoulliNB                        0.31               0.27    None      0.30   \n",
       "DecisionTreeClassifier             0.27               0.27    None      0.27   \n",
       "LinearSVC                          0.28               0.26    None      0.28   \n",
       "SGDClassifier                      0.30               0.26    None      0.29   \n",
       "ExtraTreeClassifier                0.25               0.25    None      0.25   \n",
       "PassiveAggressiveClassifier        0.27               0.25    None      0.27   \n",
       "LabelSpreading                     0.20               0.25    None      0.15   \n",
       "LabelPropagation                   0.20               0.25    None      0.15   \n",
       "Perceptron                         0.28               0.25    None      0.28   \n",
       "GaussianNB                         0.20               0.23    None      0.20   \n",
       "CalibratedClassifierCV             0.31               0.22    None      0.22   \n",
       "AdaBoostClassifier                 0.29               0.21    None      0.24   \n",
       "KNeighborsClassifier               0.16               0.17    None      0.08   \n",
       "DummyClassifier                    0.25               0.14    None      0.10   \n",
       "\n",
       "                               Time Taken  \n",
       "Model                                      \n",
       "LGBMClassifier                     600.40  \n",
       "XGBClassifier                      981.47  \n",
       "SVC                               2655.64  \n",
       "LogisticRegression                  40.61  \n",
       "NearestCentroid                      2.62  \n",
       "LinearDiscriminantAnalysis          18.14  \n",
       "BaggingClassifier                  652.21  \n",
       "QuadraticDiscriminantAnalysis       69.51  \n",
       "RidgeClassifierCV                   20.17  \n",
       "RidgeClassifier                      6.97  \n",
       "RandomForestClassifier             191.67  \n",
       "ExtraTreesClassifier                51.92  \n",
       "BernoulliNB                          3.64  \n",
       "DecisionTreeClassifier             104.93  \n",
       "LinearSVC                         1277.45  \n",
       "SGDClassifier                      254.07  \n",
       "ExtraTreeClassifier                  2.69  \n",
       "PassiveAggressiveClassifier         18.52  \n",
       "LabelSpreading                     125.11  \n",
       "LabelPropagation                    96.37  \n",
       "Perceptron                          10.41  \n",
       "GaussianNB                           3.39  \n",
       "CalibratedClassifierCV            4855.88  \n",
       "AdaBoostClassifier                 486.27  \n",
       "KNeighborsClassifier                25.86  \n",
       "DummyClassifier                      2.18  "
      ]
     },
     "metadata": {},
     "output_type": "display_data"
    }
   ],
   "source": [
    "transformed_X_train, transformed_X_test, transformed_y_train, transformed_y_test = train_test_split(transformed_data, labels, test_size=0.2)\n",
    "\n",
    "transformed_scores, transformed_predictions = clf.fit(transformed_X_train, transformed_X_test, transformed_y_train, transformed_y_test)\n",
    "display(transformed_scores)"
   ]
  },
  {
   "cell_type": "markdown",
   "id": "ddf95fee",
   "metadata": {
    "papermill": {
     "duration": 0.024822,
     "end_time": "2024-06-16T17:47:04.342608",
     "exception": false,
     "start_time": "2024-06-16T17:47:04.317786",
     "status": "completed"
    },
    "tags": []
   },
   "source": [
    "## 4. Evaluating Classification Performance\n",
    "\n",
    "Compare the performance of the different classification models using various metrics: accuracy, precision, recall, and F1-score.\n",
    "Based on the evaluation metrics, explain which model performs best and why. Identify the emotion category where the model makes the most accurate and most errors. (1 point)\n"
   ]
  },
  {
   "cell_type": "code",
   "execution_count": 24,
   "id": "bcadb569",
   "metadata": {
    "execution": {
     "iopub.execute_input": "2024-06-16T17:47:04.397422Z",
     "iopub.status.busy": "2024-06-16T17:47:04.396819Z",
     "iopub.status.idle": "2024-06-16T17:47:04.406360Z",
     "shell.execute_reply": "2024-06-16T17:47:04.405285Z"
    },
    "papermill": {
     "duration": 0.041318,
     "end_time": "2024-06-16T17:47:04.408883",
     "exception": false,
     "start_time": "2024-06-16T17:47:04.367565",
     "status": "completed"
    },
    "tags": []
   },
   "outputs": [],
   "source": [
    "## visualize the confusion matrices and classification reports here"
   ]
  }
 ],
 "metadata": {
  "kaggle": {
   "accelerator": "none",
   "dataSources": [
    {
     "datasetId": 5195321,
     "sourceId": 8669212,
     "sourceType": "datasetVersion"
    }
   ],
   "dockerImageVersionId": 30732,
   "isGpuEnabled": false,
   "isInternetEnabled": true,
   "language": "python",
   "sourceType": "notebook"
  },
  "kernelspec": {
   "display_name": "Python 3",
   "language": "python",
   "name": "python3"
  },
  "language_info": {
   "codemirror_mode": {
    "name": "ipython",
    "version": 3
   },
   "file_extension": ".py",
   "mimetype": "text/x-python",
   "name": "python",
   "nbconvert_exporter": "python",
   "pygments_lexer": "ipython3",
   "version": "3.12.3"
  },
  "papermill": {
   "default_parameters": {},
   "duration": 28641.112061,
   "end_time": "2024-06-16T17:47:06.836652",
   "environment_variables": {},
   "exception": null,
   "input_path": "__notebook__.ipynb",
   "output_path": "__notebook__.ipynb",
   "parameters": {},
   "start_time": "2024-06-16T09:49:45.724591",
   "version": "2.5.0"
  },
  "widgets": {
   "application/vnd.jupyter.widget-state+json": {
    "state": {
     "05b66f2112704d9897842d5d7953c436": {
      "model_module": "@jupyter-widgets/base",
      "model_module_version": "1.2.0",
      "model_name": "LayoutModel",
      "state": {
       "_model_module": "@jupyter-widgets/base",
       "_model_module_version": "1.2.0",
       "_model_name": "LayoutModel",
       "_view_count": null,
       "_view_module": "@jupyter-widgets/base",
       "_view_module_version": "1.2.0",
       "_view_name": "LayoutView",
       "align_content": null,
       "align_items": null,
       "align_self": null,
       "border": null,
       "bottom": null,
       "display": null,
       "flex": null,
       "flex_flow": null,
       "grid_area": null,
       "grid_auto_columns": null,
       "grid_auto_flow": null,
       "grid_auto_rows": null,
       "grid_column": null,
       "grid_gap": null,
       "grid_row": null,
       "grid_template_areas": null,
       "grid_template_columns": null,
       "grid_template_rows": null,
       "height": null,
       "justify_content": null,
       "justify_items": null,
       "left": null,
       "margin": null,
       "max_height": null,
       "max_width": null,
       "min_height": null,
       "min_width": null,
       "object_fit": null,
       "object_position": null,
       "order": null,
       "overflow": null,
       "overflow_x": null,
       "overflow_y": null,
       "padding": null,
       "right": null,
       "top": null,
       "visibility": null,
       "width": null
      }
     },
     "090085209b6449bcb0fd9f59e7726cd1": {
      "model_module": "@jupyter-widgets/controls",
      "model_module_version": "1.5.0",
      "model_name": "HTMLModel",
      "state": {
       "_dom_classes": [],
       "_model_module": "@jupyter-widgets/controls",
       "_model_module_version": "1.5.0",
       "_model_name": "HTMLModel",
       "_view_count": null,
       "_view_module": "@jupyter-widgets/controls",
       "_view_module_version": "1.5.0",
       "_view_name": "HTMLView",
       "description": "",
       "description_tooltip": null,
       "layout": "IPY_MODEL_b38d6bec62504bd08766dd3d98723f7b",
       "placeholder": "​",
       "style": "IPY_MODEL_d06b5c64e22f4a0790b201d6c1377329",
       "value": " 35887/? [00:04&lt;00:00, 7781.69it/s]"
      }
     },
     "1919e85bb5d6455aa6d252a93ca1ac94": {
      "model_module": "@jupyter-widgets/controls",
      "model_module_version": "1.5.0",
      "model_name": "HTMLModel",
      "state": {
       "_dom_classes": [],
       "_model_module": "@jupyter-widgets/controls",
       "_model_module_version": "1.5.0",
       "_model_name": "HTMLModel",
       "_view_count": null,
       "_view_module": "@jupyter-widgets/controls",
       "_view_module_version": "1.5.0",
       "_view_name": "HTMLView",
       "description": "",
       "description_tooltip": null,
       "layout": "IPY_MODEL_f0b8db179f21492f9738947741793f97",
       "placeholder": "​",
       "style": "IPY_MODEL_942f5540d1c14dd1a18658fd0f168a69",
       "value": " 35887/35887 [03:22&lt;00:00, 177.29it/s]"
      }
     },
     "2d4e4c17afb44930a4ea6b2543a74e7f": {
      "model_module": "@jupyter-widgets/base",
      "model_module_version": "1.2.0",
      "model_name": "LayoutModel",
      "state": {
       "_model_module": "@jupyter-widgets/base",
       "_model_module_version": "1.2.0",
       "_model_name": "LayoutModel",
       "_view_count": null,
       "_view_module": "@jupyter-widgets/base",
       "_view_module_version": "1.2.0",
       "_view_name": "LayoutView",
       "align_content": null,
       "align_items": null,
       "align_self": null,
       "border": null,
       "bottom": null,
       "display": null,
       "flex": null,
       "flex_flow": null,
       "grid_area": null,
       "grid_auto_columns": null,
       "grid_auto_flow": null,
       "grid_auto_rows": null,
       "grid_column": null,
       "grid_gap": null,
       "grid_row": null,
       "grid_template_areas": null,
       "grid_template_columns": null,
       "grid_template_rows": null,
       "height": null,
       "justify_content": null,
       "justify_items": null,
       "left": null,
       "margin": null,
       "max_height": null,
       "max_width": null,
       "min_height": null,
       "min_width": null,
       "object_fit": null,
       "object_position": null,
       "order": null,
       "overflow": null,
       "overflow_x": null,
       "overflow_y": null,
       "padding": null,
       "right": null,
       "top": null,
       "visibility": null,
       "width": null
      }
     },
     "3a799f9360ef4d6dbeabbe20e40d9003": {
      "model_module": "@jupyter-widgets/base",
      "model_module_version": "1.2.0",
      "model_name": "LayoutModel",
      "state": {
       "_model_module": "@jupyter-widgets/base",
       "_model_module_version": "1.2.0",
       "_model_name": "LayoutModel",
       "_view_count": null,
       "_view_module": "@jupyter-widgets/base",
       "_view_module_version": "1.2.0",
       "_view_name": "LayoutView",
       "align_content": null,
       "align_items": null,
       "align_self": null,
       "border": null,
       "bottom": null,
       "display": null,
       "flex": null,
       "flex_flow": null,
       "grid_area": null,
       "grid_auto_columns": null,
       "grid_auto_flow": null,
       "grid_auto_rows": null,
       "grid_column": null,
       "grid_gap": null,
       "grid_row": null,
       "grid_template_areas": null,
       "grid_template_columns": null,
       "grid_template_rows": null,
       "height": null,
       "justify_content": null,
       "justify_items": null,
       "left": null,
       "margin": null,
       "max_height": null,
       "max_width": null,
       "min_height": null,
       "min_width": null,
       "object_fit": null,
       "object_position": null,
       "order": null,
       "overflow": null,
       "overflow_x": null,
       "overflow_y": null,
       "padding": null,
       "right": null,
       "top": null,
       "visibility": null,
       "width": null
      }
     },
     "4f049f3da2da46179db463e8cb92e9e5": {
      "model_module": "@jupyter-widgets/controls",
      "model_module_version": "1.5.0",
      "model_name": "HBoxModel",
      "state": {
       "_dom_classes": [],
       "_model_module": "@jupyter-widgets/controls",
       "_model_module_version": "1.5.0",
       "_model_name": "HBoxModel",
       "_view_count": null,
       "_view_module": "@jupyter-widgets/controls",
       "_view_module_version": "1.5.0",
       "_view_name": "HBoxView",
       "box_style": "",
       "children": [
        "IPY_MODEL_fe76ec3718474e4badf3d56884fe4006",
        "IPY_MODEL_ef31955cc06641c89f854bd761a5268b",
        "IPY_MODEL_1919e85bb5d6455aa6d252a93ca1ac94"
       ],
       "layout": "IPY_MODEL_3a799f9360ef4d6dbeabbe20e40d9003"
      }
     },
     "544a3533c5d242218f70ed03a7a0e1eb": {
      "model_module": "@jupyter-widgets/base",
      "model_module_version": "1.2.0",
      "model_name": "LayoutModel",
      "state": {
       "_model_module": "@jupyter-widgets/base",
       "_model_module_version": "1.2.0",
       "_model_name": "LayoutModel",
       "_view_count": null,
       "_view_module": "@jupyter-widgets/base",
       "_view_module_version": "1.2.0",
       "_view_name": "LayoutView",
       "align_content": null,
       "align_items": null,
       "align_self": null,
       "border": null,
       "bottom": null,
       "display": null,
       "flex": null,
       "flex_flow": null,
       "grid_area": null,
       "grid_auto_columns": null,
       "grid_auto_flow": null,
       "grid_auto_rows": null,
       "grid_column": null,
       "grid_gap": null,
       "grid_row": null,
       "grid_template_areas": null,
       "grid_template_columns": null,
       "grid_template_rows": null,
       "height": null,
       "justify_content": null,
       "justify_items": null,
       "left": null,
       "margin": null,
       "max_height": null,
       "max_width": null,
       "min_height": null,
       "min_width": null,
       "object_fit": null,
       "object_position": null,
       "order": null,
       "overflow": null,
       "overflow_x": null,
       "overflow_y": null,
       "padding": null,
       "right": null,
       "top": null,
       "visibility": null,
       "width": null
      }
     },
     "572438df8ea24e46bc08ce22a9e6f509": {
      "model_module": "@jupyter-widgets/controls",
      "model_module_version": "1.5.0",
      "model_name": "ProgressStyleModel",
      "state": {
       "_model_module": "@jupyter-widgets/controls",
       "_model_module_version": "1.5.0",
       "_model_name": "ProgressStyleModel",
       "_view_count": null,
       "_view_module": "@jupyter-widgets/base",
       "_view_module_version": "1.2.0",
       "_view_name": "StyleView",
       "bar_color": null,
       "description_width": ""
      }
     },
     "5bec29fb50b24780b828ad2a4ee43d1c": {
      "model_module": "@jupyter-widgets/base",
      "model_module_version": "1.2.0",
      "model_name": "LayoutModel",
      "state": {
       "_model_module": "@jupyter-widgets/base",
       "_model_module_version": "1.2.0",
       "_model_name": "LayoutModel",
       "_view_count": null,
       "_view_module": "@jupyter-widgets/base",
       "_view_module_version": "1.2.0",
       "_view_name": "LayoutView",
       "align_content": null,
       "align_items": null,
       "align_self": null,
       "border": null,
       "bottom": null,
       "display": null,
       "flex": null,
       "flex_flow": null,
       "grid_area": null,
       "grid_auto_columns": null,
       "grid_auto_flow": null,
       "grid_auto_rows": null,
       "grid_column": null,
       "grid_gap": null,
       "grid_row": null,
       "grid_template_areas": null,
       "grid_template_columns": null,
       "grid_template_rows": null,
       "height": null,
       "justify_content": null,
       "justify_items": null,
       "left": null,
       "margin": null,
       "max_height": null,
       "max_width": null,
       "min_height": null,
       "min_width": null,
       "object_fit": null,
       "object_position": null,
       "order": null,
       "overflow": null,
       "overflow_x": null,
       "overflow_y": null,
       "padding": null,
       "right": null,
       "top": null,
       "visibility": null,
       "width": "20px"
      }
     },
     "7c56c36284224be3ad1ccb9cfd2d42a8": {
      "model_module": "@jupyter-widgets/controls",
      "model_module_version": "1.5.0",
      "model_name": "HBoxModel",
      "state": {
       "_dom_classes": [],
       "_model_module": "@jupyter-widgets/controls",
       "_model_module_version": "1.5.0",
       "_model_name": "HBoxModel",
       "_view_count": null,
       "_view_module": "@jupyter-widgets/controls",
       "_view_module_version": "1.5.0",
       "_view_name": "HBoxView",
       "box_style": "",
       "children": [
        "IPY_MODEL_fafaedda636d48afa62a175393e7ec22",
        "IPY_MODEL_b4968edb697d4a02b5af36bec884b49d",
        "IPY_MODEL_090085209b6449bcb0fd9f59e7726cd1"
       ],
       "layout": "IPY_MODEL_544a3533c5d242218f70ed03a7a0e1eb"
      }
     },
     "8af7d2edec0d4cab9acaf40dca78d1fb": {
      "model_module": "@jupyter-widgets/controls",
      "model_module_version": "1.5.0",
      "model_name": "DescriptionStyleModel",
      "state": {
       "_model_module": "@jupyter-widgets/controls",
       "_model_module_version": "1.5.0",
       "_model_name": "DescriptionStyleModel",
       "_view_count": null,
       "_view_module": "@jupyter-widgets/base",
       "_view_module_version": "1.2.0",
       "_view_name": "StyleView",
       "description_width": ""
      }
     },
     "8b38238eaa3143f493a7d4000cae750e": {
      "model_module": "@jupyter-widgets/controls",
      "model_module_version": "1.5.0",
      "model_name": "ProgressStyleModel",
      "state": {
       "_model_module": "@jupyter-widgets/controls",
       "_model_module_version": "1.5.0",
       "_model_name": "ProgressStyleModel",
       "_view_count": null,
       "_view_module": "@jupyter-widgets/base",
       "_view_module_version": "1.2.0",
       "_view_name": "StyleView",
       "bar_color": null,
       "description_width": ""
      }
     },
     "942f5540d1c14dd1a18658fd0f168a69": {
      "model_module": "@jupyter-widgets/controls",
      "model_module_version": "1.5.0",
      "model_name": "DescriptionStyleModel",
      "state": {
       "_model_module": "@jupyter-widgets/controls",
       "_model_module_version": "1.5.0",
       "_model_name": "DescriptionStyleModel",
       "_view_count": null,
       "_view_module": "@jupyter-widgets/base",
       "_view_module_version": "1.2.0",
       "_view_name": "StyleView",
       "description_width": ""
      }
     },
     "b38d6bec62504bd08766dd3d98723f7b": {
      "model_module": "@jupyter-widgets/base",
      "model_module_version": "1.2.0",
      "model_name": "LayoutModel",
      "state": {
       "_model_module": "@jupyter-widgets/base",
       "_model_module_version": "1.2.0",
       "_model_name": "LayoutModel",
       "_view_count": null,
       "_view_module": "@jupyter-widgets/base",
       "_view_module_version": "1.2.0",
       "_view_name": "LayoutView",
       "align_content": null,
       "align_items": null,
       "align_self": null,
       "border": null,
       "bottom": null,
       "display": null,
       "flex": null,
       "flex_flow": null,
       "grid_area": null,
       "grid_auto_columns": null,
       "grid_auto_flow": null,
       "grid_auto_rows": null,
       "grid_column": null,
       "grid_gap": null,
       "grid_row": null,
       "grid_template_areas": null,
       "grid_template_columns": null,
       "grid_template_rows": null,
       "height": null,
       "justify_content": null,
       "justify_items": null,
       "left": null,
       "margin": null,
       "max_height": null,
       "max_width": null,
       "min_height": null,
       "min_width": null,
       "object_fit": null,
       "object_position": null,
       "order": null,
       "overflow": null,
       "overflow_x": null,
       "overflow_y": null,
       "padding": null,
       "right": null,
       "top": null,
       "visibility": null,
       "width": null
      }
     },
     "b4968edb697d4a02b5af36bec884b49d": {
      "model_module": "@jupyter-widgets/controls",
      "model_module_version": "1.5.0",
      "model_name": "FloatProgressModel",
      "state": {
       "_dom_classes": [],
       "_model_module": "@jupyter-widgets/controls",
       "_model_module_version": "1.5.0",
       "_model_name": "FloatProgressModel",
       "_view_count": null,
       "_view_module": "@jupyter-widgets/controls",
       "_view_module_version": "1.5.0",
       "_view_name": "ProgressView",
       "bar_style": "success",
       "description": "",
       "description_tooltip": null,
       "layout": "IPY_MODEL_5bec29fb50b24780b828ad2a4ee43d1c",
       "max": 1,
       "min": 0,
       "orientation": "horizontal",
       "style": "IPY_MODEL_8b38238eaa3143f493a7d4000cae750e",
       "value": 1
      }
     },
     "c466cee31b8b442abfa5756540e4785a": {
      "model_module": "@jupyter-widgets/controls",
      "model_module_version": "1.5.0",
      "model_name": "DescriptionStyleModel",
      "state": {
       "_model_module": "@jupyter-widgets/controls",
       "_model_module_version": "1.5.0",
       "_model_name": "DescriptionStyleModel",
       "_view_count": null,
       "_view_module": "@jupyter-widgets/base",
       "_view_module_version": "1.2.0",
       "_view_name": "StyleView",
       "description_width": ""
      }
     },
     "d06b5c64e22f4a0790b201d6c1377329": {
      "model_module": "@jupyter-widgets/controls",
      "model_module_version": "1.5.0",
      "model_name": "DescriptionStyleModel",
      "state": {
       "_model_module": "@jupyter-widgets/controls",
       "_model_module_version": "1.5.0",
       "_model_name": "DescriptionStyleModel",
       "_view_count": null,
       "_view_module": "@jupyter-widgets/base",
       "_view_module_version": "1.2.0",
       "_view_name": "StyleView",
       "description_width": ""
      }
     },
     "ef31955cc06641c89f854bd761a5268b": {
      "model_module": "@jupyter-widgets/controls",
      "model_module_version": "1.5.0",
      "model_name": "FloatProgressModel",
      "state": {
       "_dom_classes": [],
       "_model_module": "@jupyter-widgets/controls",
       "_model_module_version": "1.5.0",
       "_model_name": "FloatProgressModel",
       "_view_count": null,
       "_view_module": "@jupyter-widgets/controls",
       "_view_module_version": "1.5.0",
       "_view_name": "ProgressView",
       "bar_style": "success",
       "description": "",
       "description_tooltip": null,
       "layout": "IPY_MODEL_2d4e4c17afb44930a4ea6b2543a74e7f",
       "max": 35887,
       "min": 0,
       "orientation": "horizontal",
       "style": "IPY_MODEL_572438df8ea24e46bc08ce22a9e6f509",
       "value": 35887
      }
     },
     "f0b8db179f21492f9738947741793f97": {
      "model_module": "@jupyter-widgets/base",
      "model_module_version": "1.2.0",
      "model_name": "LayoutModel",
      "state": {
       "_model_module": "@jupyter-widgets/base",
       "_model_module_version": "1.2.0",
       "_model_name": "LayoutModel",
       "_view_count": null,
       "_view_module": "@jupyter-widgets/base",
       "_view_module_version": "1.2.0",
       "_view_name": "LayoutView",
       "align_content": null,
       "align_items": null,
       "align_self": null,
       "border": null,
       "bottom": null,
       "display": null,
       "flex": null,
       "flex_flow": null,
       "grid_area": null,
       "grid_auto_columns": null,
       "grid_auto_flow": null,
       "grid_auto_rows": null,
       "grid_column": null,
       "grid_gap": null,
       "grid_row": null,
       "grid_template_areas": null,
       "grid_template_columns": null,
       "grid_template_rows": null,
       "height": null,
       "justify_content": null,
       "justify_items": null,
       "left": null,
       "margin": null,
       "max_height": null,
       "max_width": null,
       "min_height": null,
       "min_width": null,
       "object_fit": null,
       "object_position": null,
       "order": null,
       "overflow": null,
       "overflow_x": null,
       "overflow_y": null,
       "padding": null,
       "right": null,
       "top": null,
       "visibility": null,
       "width": null
      }
     },
     "f4899a653d00454bb01ea434527707d8": {
      "model_module": "@jupyter-widgets/base",
      "model_module_version": "1.2.0",
      "model_name": "LayoutModel",
      "state": {
       "_model_module": "@jupyter-widgets/base",
       "_model_module_version": "1.2.0",
       "_model_name": "LayoutModel",
       "_view_count": null,
       "_view_module": "@jupyter-widgets/base",
       "_view_module_version": "1.2.0",
       "_view_name": "LayoutView",
       "align_content": null,
       "align_items": null,
       "align_self": null,
       "border": null,
       "bottom": null,
       "display": null,
       "flex": null,
       "flex_flow": null,
       "grid_area": null,
       "grid_auto_columns": null,
       "grid_auto_flow": null,
       "grid_auto_rows": null,
       "grid_column": null,
       "grid_gap": null,
       "grid_row": null,
       "grid_template_areas": null,
       "grid_template_columns": null,
       "grid_template_rows": null,
       "height": null,
       "justify_content": null,
       "justify_items": null,
       "left": null,
       "margin": null,
       "max_height": null,
       "max_width": null,
       "min_height": null,
       "min_width": null,
       "object_fit": null,
       "object_position": null,
       "order": null,
       "overflow": null,
       "overflow_x": null,
       "overflow_y": null,
       "padding": null,
       "right": null,
       "top": null,
       "visibility": null,
       "width": null
      }
     },
     "fafaedda636d48afa62a175393e7ec22": {
      "model_module": "@jupyter-widgets/controls",
      "model_module_version": "1.5.0",
      "model_name": "HTMLModel",
      "state": {
       "_dom_classes": [],
       "_model_module": "@jupyter-widgets/controls",
       "_model_module_version": "1.5.0",
       "_model_name": "HTMLModel",
       "_view_count": null,
       "_view_module": "@jupyter-widgets/controls",
       "_view_module_version": "1.5.0",
       "_view_name": "HTMLView",
       "description": "",
       "description_tooltip": null,
       "layout": "IPY_MODEL_05b66f2112704d9897842d5d7953c436",
       "placeholder": "​",
       "style": "IPY_MODEL_c466cee31b8b442abfa5756540e4785a",
       "value": ""
      }
     },
     "fe76ec3718474e4badf3d56884fe4006": {
      "model_module": "@jupyter-widgets/controls",
      "model_module_version": "1.5.0",
      "model_name": "HTMLModel",
      "state": {
       "_dom_classes": [],
       "_model_module": "@jupyter-widgets/controls",
       "_model_module_version": "1.5.0",
       "_model_name": "HTMLModel",
       "_view_count": null,
       "_view_module": "@jupyter-widgets/controls",
       "_view_module_version": "1.5.0",
       "_view_name": "HTMLView",
       "description": "",
       "description_tooltip": null,
       "layout": "IPY_MODEL_f4899a653d00454bb01ea434527707d8",
       "placeholder": "​",
       "style": "IPY_MODEL_8af7d2edec0d4cab9acaf40dca78d1fb",
       "value": "100%"
      }
     }
    },
    "version_major": 2,
    "version_minor": 0
   }
  }
 },
 "nbformat": 4,
 "nbformat_minor": 5
}
